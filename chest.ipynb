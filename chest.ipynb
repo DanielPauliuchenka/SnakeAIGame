{
  "metadata": {
    "kernelspec": {
      "display_name": "Python 3",
      "name": "python3"
    },
    "language_info": {
      "pygments_lexer": "ipython3",
      "nbconvert_exporter": "python",
      "version": "3.6.4",
      "file_extension": ".py",
      "codemirror_mode": {
        "name": "ipython",
        "version": 3
      },
      "name": "python",
      "mimetype": "text/x-python"
    },
    "colab": {
      "name": "notebookdfece9a1be",
      "provenance": [],
      "gpuType": "T4",
      "include_colab_link": true
    },
    "accelerator": "GPU"
  },
  "nbformat_minor": 0,
  "nbformat": 4,
  "cells": [
    {
      "cell_type": "markdown",
      "metadata": {
        "id": "view-in-github",
        "colab_type": "text"
      },
      "source": [
        "<a href=\"https://colab.research.google.com/github/DanielPauliuchenka/SnakeAIGame/blob/main/chest.ipynb\" target=\"_parent\"><img src=\"https://colab.research.google.com/assets/colab-badge.svg\" alt=\"Open In Colab\"/></a>"
      ]
    },
    {
      "source": [
        "# IMPORTANT: RUN THIS CELL IN ORDER TO IMPORT YOUR KAGGLE DATA SOURCES,\n",
        "# THEN FEEL FREE TO DELETE THIS CELL.\n",
        "# NOTE: THIS NOTEBOOK ENVIRONMENT DIFFERS FROM KAGGLE'S PYTHON\n",
        "# ENVIRONMENT SO THERE MAY BE MISSING LIBRARIES USED BY YOUR\n",
        "# NOTEBOOK.\n",
        "import kagglehub\n",
        "ashery_chexpert_path = kagglehub.dataset_download('ashery/chexpert')\n",
        "\n",
        "print('Data source import complete.')\n"
      ],
      "metadata": {
        "id": "CuTMnRQ3KQV6",
        "outputId": "437f22e8-49ef-4078-9b2e-25a8c5615180",
        "colab": {
          "base_uri": "https://localhost:8080/"
        }
      },
      "cell_type": "code",
      "outputs": [
        {
          "output_type": "stream",
          "name": "stdout",
          "text": [
            "Data source import complete.\n"
          ]
        }
      ],
      "execution_count": 29
    },
    {
      "cell_type": "markdown",
      "source": [
        "# Prerequisites"
      ],
      "metadata": {
        "id": "HT4lals5KQV8"
      }
    },
    {
      "cell_type": "code",
      "source": [
        "!pip install barbar"
      ],
      "metadata": {
        "execution": {
          "iopub.status.busy": "2023-07-05T07:59:55.971026Z",
          "iopub.execute_input": "2023-07-05T07:59:55.971344Z",
          "iopub.status.idle": "2023-07-05T08:00:10.314872Z",
          "shell.execute_reply.started": "2023-07-05T07:59:55.971319Z",
          "shell.execute_reply": "2023-07-05T08:00:10.313664Z"
        },
        "trusted": true,
        "id": "XNKmalMiKQV9",
        "outputId": "ad123434-2437-4c63-c84a-aeaebbfce065",
        "colab": {
          "base_uri": "https://localhost:8080/"
        }
      },
      "execution_count": 30,
      "outputs": [
        {
          "output_type": "stream",
          "name": "stdout",
          "text": [
            "Requirement already satisfied: barbar in /usr/local/lib/python3.11/dist-packages (0.2.1)\n"
          ]
        }
      ]
    },
    {
      "cell_type": "code",
      "source": [
        "import numpy as np\n",
        "import pandas as pd\n",
        "import time\n",
        "import csv\n",
        "import random\n",
        "import matplotlib.pyplot as plt\n",
        "from PIL import Image\n",
        "from barbar import Bar\n",
        "\n",
        "import torch\n",
        "import torch.nn as nn\n",
        "import torch.optim as optim\n",
        "import torch.backends.cudnn as cudnn\n",
        "import torchvision\n",
        "import torchvision.transforms as transforms\n",
        "from torch.utils.data import Dataset\n",
        "from torch.utils.data import DataLoader\n",
        "from torch.utils.data.dataset import random_split\n",
        "\n",
        "import sklearn.metrics as metrics\n",
        "from sklearn.metrics import roc_auc_score\n",
        "from sklearn.metrics import confusion_matrix\n",
        "\n",
        "use_gpu = torch.cuda.is_available()\n",
        "print(use_gpu)"
      ],
      "metadata": {
        "execution": {
          "iopub.status.busy": "2023-07-05T09:10:46.76822Z",
          "iopub.execute_input": "2023-07-05T09:10:46.768923Z",
          "iopub.status.idle": "2023-07-05T09:10:46.778101Z",
          "shell.execute_reply.started": "2023-07-05T09:10:46.768879Z",
          "shell.execute_reply": "2023-07-05T09:10:46.777145Z"
        },
        "trusted": true,
        "id": "PcRLqHx5KQV9",
        "outputId": "c565f33b-168e-493e-ff10-c7e36d111749",
        "colab": {
          "base_uri": "https://localhost:8080/"
        }
      },
      "execution_count": 31,
      "outputs": [
        {
          "output_type": "stream",
          "name": "stdout",
          "text": [
            "True\n"
          ]
        }
      ]
    },
    {
      "cell_type": "markdown",
      "source": [
        "# Pre-define Value"
      ],
      "metadata": {
        "id": "VXgsQsCNKQV-"
      }
    },
    {
      "cell_type": "code",
      "source": [
        "Traindata = pd.read_csv('/kaggle/input/chexpert/train.csv')\n",
        "Traindata = Traindata[Traindata['Path'].str.contains(\"frontal\")] # use only frontal images"
      ],
      "metadata": {
        "execution": {
          "iopub.status.busy": "2023-07-05T08:20:27.997199Z",
          "iopub.execute_input": "2023-07-05T08:20:27.997611Z",
          "iopub.status.idle": "2023-07-05T08:20:28.608399Z",
          "shell.execute_reply.started": "2023-07-05T08:20:27.997582Z",
          "shell.execute_reply": "2023-07-05T08:20:28.607406Z"
        },
        "trusted": true,
        "id": "rg58k3OvKQV-"
      },
      "execution_count": 32,
      "outputs": []
    },
    {
      "cell_type": "code",
      "source": [
        "Traindata = Traindata.fillna(0)\n",
        "Traindata = Traindata.replace(-1,0)"
      ],
      "metadata": {
        "execution": {
          "iopub.status.busy": "2023-07-05T08:20:28.632664Z",
          "iopub.execute_input": "2023-07-05T08:20:28.633006Z",
          "iopub.status.idle": "2023-07-05T08:20:28.915464Z",
          "shell.execute_reply.started": "2023-07-05T08:20:28.632975Z",
          "shell.execute_reply": "2023-07-05T08:20:28.914499Z"
        },
        "trusted": true,
        "id": "3rBusFpsKQV-"
      },
      "execution_count": 33,
      "outputs": []
    },
    {
      "cell_type": "code",
      "source": [
        "# Traindata.columns"
      ],
      "metadata": {
        "execution": {
          "iopub.status.busy": "2023-07-05T08:20:28.917515Z",
          "iopub.execute_input": "2023-07-05T08:20:28.917949Z",
          "iopub.status.idle": "2023-07-05T08:20:28.927102Z",
          "shell.execute_reply.started": "2023-07-05T08:20:28.917917Z",
          "shell.execute_reply": "2023-07-05T08:20:28.926057Z"
        },
        "collapsed": true,
        "jupyter": {
          "outputs_hidden": true
        },
        "trusted": true,
        "id": "HWgKsR4-KQV-"
      },
      "execution_count": 34,
      "outputs": []
    },
    {
      "cell_type": "code",
      "source": [
        "Traindata=Traindata.drop(['Enlarged Cardiomediastinum', 'Cardiomegaly', 'Lung Opacity',\n",
        "       'Lung Lesion', 'Edema', 'Consolidation', 'Pneumonia', 'Atelectasis',\n",
        "       'Pneumothorax', 'Pleural Other', 'Fracture',\n",
        "       'Support Devices'],axis=1)"
      ],
      "metadata": {
        "execution": {
          "iopub.status.busy": "2023-07-05T08:20:31.339464Z",
          "iopub.execute_input": "2023-07-05T08:20:31.339822Z",
          "iopub.status.idle": "2023-07-05T08:20:31.358611Z",
          "shell.execute_reply.started": "2023-07-05T08:20:31.339794Z",
          "shell.execute_reply": "2023-07-05T08:20:31.357639Z"
        },
        "trusted": true,
        "id": "gasjJ3CJKQV_"
      },
      "execution_count": 35,
      "outputs": []
    },
    {
      "cell_type": "code",
      "source": [
        "Traindata = Traindata[~((Traindata['No Finding'] == 0) & (Traindata['Pleural Effusion'] == 0))]\n",
        "\n",
        "Traindata = Traindata[500:]\n",
        "Traindata.to_csv('/kaggle/working/train_mod.csv', index = False)\n",
        "print(\"Train data length:\", len(Traindata))"
      ],
      "metadata": {
        "execution": {
          "iopub.status.busy": "2023-07-05T08:22:59.502779Z",
          "iopub.execute_input": "2023-07-05T08:22:59.503136Z",
          "iopub.status.idle": "2023-07-05T08:23:00.154843Z",
          "shell.execute_reply.started": "2023-07-05T08:22:59.503109Z",
          "shell.execute_reply": "2023-07-05T08:23:00.153876Z"
        },
        "trusted": true,
        "id": "WGavl5uCKQV_",
        "outputId": "7b9a680b-b829-4bd9-abd0-5574a604c074",
        "colab": {
          "base_uri": "https://localhost:8080/"
        }
      },
      "execution_count": 36,
      "outputs": [
        {
          "output_type": "stream",
          "name": "stdout",
          "text": [
            "Train data length: 93373\n"
          ]
        }
      ]
    },
    {
      "cell_type": "code",
      "source": [
        "\n",
        "Validdata = pd.read_csv('/kaggle/input/chexpert/valid.csv')\n",
        "Validdata = Validdata[Validdata['Path'].str.contains(\"frontal\")] # use only frontal images\n",
        "\n",
        "Validdata = Validdata.fillna(0)\n",
        "Validdata = Validdata.replace(-1,0)\n",
        "Validdata=Validdata.drop(['Enlarged Cardiomediastinum', 'Cardiomegaly', 'Lung Opacity',\n",
        "       'Lung Lesion', 'Edema', 'Consolidation', 'Pneumonia', 'Atelectasis',\n",
        "       'Pneumothorax', 'Pleural Other', 'Fracture',\n",
        "       'Support Devices'],axis=1)\n",
        "Validdata = Validdata[~((Validdata['No Finding'] == 0) & (Validdata['Pleural Effusion'] == 0))]\n",
        "\n",
        "Validdata.to_csv('/kaggle/working/valid_mod.csv', index = False)\n",
        "print(\"Valid data length:\", len(Validdata))\n"
      ],
      "metadata": {
        "execution": {
          "iopub.status.busy": "2023-07-05T08:22:51.441795Z",
          "iopub.execute_input": "2023-07-05T08:22:51.442583Z",
          "iopub.status.idle": "2023-07-05T08:22:51.482024Z",
          "shell.execute_reply.started": "2023-07-05T08:22:51.442547Z",
          "shell.execute_reply": "2023-07-05T08:22:51.481032Z"
        },
        "trusted": true,
        "id": "JWfYeN1sKQV_",
        "outputId": "4cb54b74-8a17-4730-a658-58d7203fb7ee",
        "colab": {
          "base_uri": "https://localhost:8080/"
        }
      },
      "execution_count": 37,
      "outputs": [
        {
          "output_type": "stream",
          "name": "stdout",
          "text": [
            "Valid data length: 90\n"
          ]
        }
      ]
    },
    {
      "cell_type": "code",
      "source": [
        "\n",
        "Testdata = Traindata.head(500) # use first 500 training data as test data (obs ratio is almost same!)\n",
        "Testdata.to_csv('/kaggle/working/test_mod.csv', index = False)\n",
        "print(\"Test data length:\", len(Testdata))\n",
        "# '''\n",
        "pathFileTrain = '/kaggle/working/train_mod.csv'\n",
        "pathFileValid = '/kaggle/working/valid_mod.csv'\n",
        "pathFileTest = '/kaggle/working/test_mod.csv'\n",
        "\n",
        "# Neural network parameters:\n",
        "nnIsTrained = False     # pre-trained using ImageNet\n",
        "nnClassCount = 2      # dimension of the output\n",
        "\n",
        "# Training settings: batch size, maximum number of epochs\n",
        "trBatchSize = 16\n",
        "trMaxEpoch = 3\n",
        "\n",
        "# Parameters related to image transforms: size of the down-scaled image, cropped image\n",
        "imgtransResize = (320, 320)\n",
        "imgtransCrop = 224\n",
        "\n",
        "# Class names\n",
        "# class_names = ['No Finding', 'Enlarged Cardiomediastinum', 'Cardiomegaly', 'Lung Opacity',\n",
        "#                'Lung Lesion', 'Edema', 'Consolidation', 'Pneumonia', 'Atelectasis', 'Pneumothorax',\n",
        "#                'Pleural Effusion', 'Pleural Other', 'Fracture', 'Support Devices']\n",
        "class_names = ['No Finding', 'Pleural Effusion']"
      ],
      "metadata": {
        "execution": {
          "iopub.status.busy": "2023-07-05T08:23:04.125649Z",
          "iopub.execute_input": "2023-07-05T08:23:04.126009Z",
          "iopub.status.idle": "2023-07-05T08:23:04.140862Z",
          "shell.execute_reply.started": "2023-07-05T08:23:04.12598Z",
          "shell.execute_reply": "2023-07-05T08:23:04.139554Z"
        },
        "trusted": true,
        "id": "Y3CzQz2HKQWA",
        "outputId": "35cf73f1-c9ed-4cd1-a5f1-03662edea29b",
        "colab": {
          "base_uri": "https://localhost:8080/"
        }
      },
      "execution_count": 38,
      "outputs": [
        {
          "output_type": "stream",
          "name": "stdout",
          "text": [
            "Test data length: 500\n"
          ]
        }
      ]
    },
    {
      "cell_type": "code",
      "source": [
        "Traindata.columns"
      ],
      "metadata": {
        "execution": {
          "iopub.status.busy": "2023-07-05T08:24:22.545363Z",
          "iopub.execute_input": "2023-07-05T08:24:22.545769Z",
          "iopub.status.idle": "2023-07-05T08:24:22.552514Z",
          "shell.execute_reply.started": "2023-07-05T08:24:22.545739Z",
          "shell.execute_reply": "2023-07-05T08:24:22.551447Z"
        },
        "trusted": true,
        "id": "MpSjfeurKQWA",
        "outputId": "a6c2b96b-42d7-44f7-dd9e-fb9837654638",
        "colab": {
          "base_uri": "https://localhost:8080/"
        }
      },
      "execution_count": 39,
      "outputs": [
        {
          "output_type": "execute_result",
          "data": {
            "text/plain": [
              "Index(['Path', 'Sex', 'Age', 'Frontal/Lateral', 'AP/PA', 'No Finding',\n",
              "       'Pleural Effusion'],\n",
              "      dtype='object')"
            ]
          },
          "metadata": {},
          "execution_count": 39
        }
      ]
    },
    {
      "cell_type": "markdown",
      "source": [
        "# Create a Dataset"
      ],
      "metadata": {
        "id": "T5dShul6KQWA"
      }
    },
    {
      "cell_type": "code",
      "source": [
        "class CheXpertDataSet(Dataset):\n",
        "    def __init__(self, data_PATH, transform = None, policy = \"ones\"):\n",
        "        \"\"\"\n",
        "        data_PATH: path to the file containing images with corresponding labels.\n",
        "        transform: optional transform to be applied on a sample.\n",
        "        Upolicy: name the policy with regard to the uncertain labels.\n",
        "        \"\"\"\n",
        "        image_names = []\n",
        "        labels = []\n",
        "\n",
        "        with open(data_PATH, \"r\") as f:\n",
        "            csvReader = csv.reader(f)\n",
        "            next(csvReader, None) # skip the header\n",
        "            for line in csvReader:\n",
        "                image_name = line[0]\n",
        "                label = line[5:]\n",
        "\n",
        "                for i in range(2):\n",
        "                    if label[i]:\n",
        "                        a = float(label[i])\n",
        "                        if a == 1:\n",
        "                            label[i] = 1\n",
        "#                         elif a == -1:\n",
        "#                             if policy == \"ones\":\n",
        "#                                 label[i] = 1\n",
        "#                             elif policy == \"zeroes\":\n",
        "#                                 label[i] = 0\n",
        "#                             else:\n",
        "#                                 label[i] = 0\n",
        "                        else:\n",
        "                            label[i] = 0\n",
        "                    else:\n",
        "                        label[i] = 0\n",
        "\n",
        "                image_names.append(image_name)\n",
        "                labels.append(label)\n",
        "\n",
        "        self.image_names = image_names\n",
        "        self.labels = labels\n",
        "        self.transform = transform\n",
        "\n",
        "    def __getitem__(self, index):\n",
        "        \"\"\"Take the index of item and returns the image and its labels\"\"\"\n",
        "        image_name = self.image_names[index]\n",
        "        image_name = image_name.replace(\"CheXpert-v1.0-small\",\"/kaggle/input/chexpert\" )\n",
        "        image = Image.open(image_name).convert('RGB')\n",
        "        label = self.labels[index]\n",
        "        if self.transform is not None:\n",
        "            image = self.transform(image)\n",
        "        return image, torch.FloatTensor(label)\n",
        "\n",
        "    def __len__(self):\n",
        "        return len(self.image_names)"
      ],
      "metadata": {
        "execution": {
          "iopub.status.busy": "2023-07-05T08:24:42.163897Z",
          "iopub.execute_input": "2023-07-05T08:24:42.164254Z",
          "iopub.status.idle": "2023-07-05T08:24:42.176158Z",
          "shell.execute_reply.started": "2023-07-05T08:24:42.164225Z",
          "shell.execute_reply": "2023-07-05T08:24:42.175129Z"
        },
        "trusted": true,
        "id": "4G4TuYWCKQWA"
      },
      "execution_count": 40,
      "outputs": []
    },
    {
      "cell_type": "markdown",
      "source": [
        "# Load Datasets"
      ],
      "metadata": {
        "id": "dMHqFDNMKQWB"
      }
    },
    {
      "cell_type": "code",
      "source": [
        "IMAGENET_MEAN = [0.485, 0.456, 0.406]  # mean of ImageNet dataset(for normalization)\n",
        "IMAGENET_STD = [0.229, 0.224, 0.225]   # std of ImageNet dataset(for normalization)\n",
        "\n",
        "# Tranform data\n",
        "normalize = transforms.Normalize(IMAGENET_MEAN, IMAGENET_STD)\n",
        "transformList = []\n",
        "\n",
        "transformList.append(transforms.Resize((imgtransCrop, imgtransCrop))) # 224\n",
        "# transformList.append(transforms.RandomResizedCrop(imgtransCrop))\n",
        "# transformList.append(transforms.RandomHorizontalFlip())\n",
        "transformList.append(transforms.ToTensor())\n",
        "# transformList.append(normalize)\n",
        "transformSequence = transforms.Compose(transformList)\n",
        "\n",
        "# Load dataset\n",
        "datasetTrain = CheXpertDataSet(pathFileTrain, transformSequence, policy = \"ones\")\n",
        "print(\"Train data length:\", len(datasetTrain))\n",
        "\n",
        "datasetValid = CheXpertDataSet(pathFileValid, transformSequence)\n",
        "print(\"Valid data length:\", len(datasetValid))\n",
        "\n",
        "datasetTest = CheXpertDataSet(pathFileTest, transformSequence, policy = \"ones\")\n",
        "print(\"Test data length:\", len(datasetTest))"
      ],
      "metadata": {
        "execution": {
          "iopub.status.busy": "2023-07-05T08:24:44.24704Z",
          "iopub.execute_input": "2023-07-05T08:24:44.247445Z",
          "iopub.status.idle": "2023-07-05T08:24:45.002355Z",
          "shell.execute_reply.started": "2023-07-05T08:24:44.247407Z",
          "shell.execute_reply": "2023-07-05T08:24:45.00143Z"
        },
        "trusted": true,
        "id": "2OZErAHWKQWB",
        "outputId": "6517b508-a813-49ad-9b65-d22a48413907",
        "colab": {
          "base_uri": "https://localhost:8080/"
        }
      },
      "execution_count": 41,
      "outputs": [
        {
          "output_type": "stream",
          "name": "stdout",
          "text": [
            "Train data length: 93373\n",
            "Valid data length: 90\n",
            "Test data length: 500\n"
          ]
        }
      ]
    },
    {
      "cell_type": "markdown",
      "source": [
        "# Create train and test Models"
      ],
      "metadata": {
        "id": "_iB78N3DKQWB"
      }
    },
    {
      "cell_type": "code",
      "source": [
        "class CheXpertTrainer():\n",
        "\n",
        "    def train(model, dataLoaderTrain, dataLoaderVal, nnClassCount, trMaxEpoch, checkpoint):\n",
        "        optimizer = optim.Adam(model.parameters(), lr = 0.0001, # setting optimizer & scheduler\n",
        "                               betas = (0.9, 0.999), eps = 1e-08, weight_decay = 0)\n",
        "        loss = torch.nn.BCELoss() # setting loss function\n",
        "\n",
        "        if checkpoint != None and use_gpu: # loading checkpoint\n",
        "            modelCheckpoint = torch.load(checkpoint)\n",
        "            model.load_state_dict(modelCheckpoint['state_dict'])\n",
        "            optimizer.load_state_dict(modelCheckpoint['optimizer'])\n",
        "\n",
        "        # Train the network\n",
        "        lossMIN = 100000\n",
        "        train_start = []\n",
        "        train_end = []\n",
        "        for epochID in range(0, trMaxEpoch):\n",
        "            train_start.append(time.time()) # training starts\n",
        "            losst = CheXpertTrainer.epochTrain(model, dataLoaderTrain, optimizer, trMaxEpoch, nnClassCount, loss)\n",
        "            train_end.append(time.time()) # training ends\n",
        "            lossv = CheXpertTrainer.epochVal(model, dataLoaderVal, optimizer, trMaxEpoch, nnClassCount, loss)\n",
        "            print(\"Training loss: {:.3f},\".format(losst), \"Valid loss: {:.3f}\".format(lossv))\n",
        "\n",
        "            if lossv < lossMIN:\n",
        "                lossMIN = lossv\n",
        "                torch.save({'epoch': epochID + 1, 'state_dict': model.state_dict(),\n",
        "                            'best_loss': lossMIN, 'optimizer' : optimizer.state_dict()},\n",
        "                           'm-epoch_FL' + str(epochID + 1) + '.pth.tar')\n",
        "                print('Epoch ' + str(epochID + 1) + ' [save] loss = ' + str(lossv))\n",
        "            else:\n",
        "                print('Epoch ' + str(epochID + 1) + ' [----] loss = ' + str(lossv))\n",
        "\n",
        "        train_time = np.array(train_end) - np.array(train_start)\n",
        "        print(\"Training time for each epoch: {} seconds\".format(train_time.round(0)))\n",
        "        params = model.state_dict()\n",
        "        return params\n",
        "\n",
        "\n",
        "    def epochTrain(model, dataLoaderTrain, optimizer, epochMax, classCount, loss):\n",
        "        losstrain = 0\n",
        "        model.train()\n",
        "\n",
        "        for batchID, (varInput, target) in enumerate(Bar(dataLoaderTrain)):\n",
        "\n",
        "            varTarget = target.cuda(non_blocking = True)\n",
        "            varOutput = model(varInput)\n",
        "            lossvalue = loss(varOutput, varTarget)\n",
        "\n",
        "            optimizer.zero_grad()\n",
        "            lossvalue.backward()\n",
        "            optimizer.step()\n",
        "\n",
        "            losstrain += lossvalue.item()\n",
        "\n",
        "        return losstrain / len(dataLoaderTrain)\n",
        "\n",
        "\n",
        "    def epochVal(model, dataLoaderVal, optimizer, epochMax, classCount, loss):\n",
        "        model.eval()\n",
        "        lossVal = 0\n",
        "\n",
        "        with torch.no_grad():\n",
        "            for i, (varInput, target) in enumerate(dataLoaderVal):\n",
        "\n",
        "                target = target.cuda(non_blocking = True)\n",
        "                varOutput = model(varInput)\n",
        "\n",
        "                lossVal += loss(varOutput, target)\n",
        "\n",
        "        return lossVal / len(dataLoaderVal)\n",
        "\n",
        "\n",
        "    def computeAUROC(dataGT, dataPRED, classCount):\n",
        "        # Computes area under ROC curve\n",
        "        # dataGT: ground truth data\n",
        "        # dataPRED: predicted data\n",
        "        outAUROC = []\n",
        "        datanpGT = dataGT.cpu().numpy()\n",
        "        datanpPRED = dataPRED.cpu().numpy()\n",
        "\n",
        "        for i in range(classCount):\n",
        "            try:\n",
        "                outAUROC.append(roc_auc_score(datanpGT[:, i], datanpPRED[:, i]))\n",
        "            except ValueError:\n",
        "                pass\n",
        "        return outAUROC\n",
        "\n",
        "\n",
        "    def test(model, dataLoaderTest, nnClassCount, checkpoint, class_names):\n",
        "        cudnn.benchmark = True\n",
        "\n",
        "        if checkpoint != None and use_gpu:\n",
        "            modelCheckpoint = torch.load(checkpoint)\n",
        "            model.load_state_dict(modelCheckpoint['state_dict'])\n",
        "\n",
        "        if use_gpu:\n",
        "            outGT = torch.FloatTensor().cuda()\n",
        "            outPRED = torch.FloatTensor().cuda()\n",
        "        else:\n",
        "            outGT = torch.FloatTensor()\n",
        "            outPRED = torch.FloatTensor()\n",
        "\n",
        "        model.eval()\n",
        "\n",
        "        with torch.no_grad():\n",
        "            for i, (input, target) in enumerate(dataLoaderTest):\n",
        "\n",
        "                target = target.cuda()\n",
        "                outGT = torch.cat((outGT, target), 0).cuda()\n",
        "\n",
        "                bs, c, h, w = input.size()\n",
        "                varInput = input.view(-1, c, h, w)\n",
        "\n",
        "                out = model(varInput)\n",
        "                outPRED = torch.cat((outPRED, out), 0)\n",
        "        aurocIndividual = CheXpertTrainer.computeAUROC(outGT, outPRED, nnClassCount)\n",
        "#         outGT = outGT.cpu().numpy()\n",
        "#         outPRED = outPRED.cpu().numpy()\n",
        "#         for i in range(nnClassCount):\n",
        "#             print(\"*\"*20)\n",
        "#             print(confusion_matrix(outGT[:, i], outPRED[:, i]))\n",
        "\n",
        "        aurocMean = np.array(aurocIndividual).mean()\n",
        "        print('AUROC mean ', aurocMean)\n",
        "\n",
        "        for i in range (0, len(aurocIndividual)):\n",
        "            print(class_names[i], ' ', aurocIndividual[i])\n",
        "\n",
        "        return outGT, outPRED"
      ],
      "metadata": {
        "execution": {
          "iopub.status.busy": "2023-07-05T10:02:19.310969Z",
          "iopub.execute_input": "2023-07-05T10:02:19.311357Z",
          "iopub.status.idle": "2023-07-05T10:02:19.33553Z",
          "shell.execute_reply.started": "2023-07-05T10:02:19.311322Z",
          "shell.execute_reply": "2023-07-05T10:02:19.334301Z"
        },
        "trusted": true,
        "id": "i5Q1aaZ8KQWB"
      },
      "execution_count": 42,
      "outputs": []
    },
    {
      "cell_type": "markdown",
      "source": [
        "# Define the Model"
      ],
      "metadata": {
        "id": "dVLoWNtjKQWC"
      }
    },
    {
      "cell_type": "code",
      "source": [
        "class DenseNet121(nn.Module):\n",
        "    \"\"\"Model modified.\n",
        "    The architecture of our model is the same as standard DenseNet121\n",
        "    except the classifier layer which has an additional sigmoid function.\n",
        "    \"\"\"\n",
        "    def __init__(self, out_size):\n",
        "        super(DenseNet121, self).__init__()\n",
        "        self.densenet121 = torchvision.models.densenet121(pretrained = False)\n",
        "        num_ftrs = self.densenet121.classifier.in_features\n",
        "        self.densenet121.classifier = nn.Sequential(\n",
        "            nn.Linear(num_ftrs, out_size),\n",
        "            nn.Sigmoid()\n",
        "        )\n",
        "\n",
        "    def forward(self, x):\n",
        "        x = self.densenet121(x)\n",
        "        return x"
      ],
      "metadata": {
        "scrolled": true,
        "execution": {
          "iopub.status.busy": "2023-07-05T08:24:57.655608Z",
          "iopub.execute_input": "2023-07-05T08:24:57.655976Z",
          "iopub.status.idle": "2023-07-05T08:24:57.663169Z",
          "shell.execute_reply.started": "2023-07-05T08:24:57.655948Z",
          "shell.execute_reply": "2023-07-05T08:24:57.66192Z"
        },
        "trusted": true,
        "id": "xFwiaaAdKQWC"
      },
      "execution_count": 43,
      "outputs": []
    },
    {
      "cell_type": "markdown",
      "source": [
        "# Train the model with Federated Learning"
      ],
      "metadata": {
        "id": "Yyq18ffQKQWC"
      }
    },
    {
      "cell_type": "code",
      "source": [
        "Traindata.shape"
      ],
      "metadata": {
        "execution": {
          "iopub.status.busy": "2023-07-05T08:25:37.528185Z",
          "iopub.execute_input": "2023-07-05T08:25:37.528553Z",
          "iopub.status.idle": "2023-07-05T08:25:37.535003Z",
          "shell.execute_reply.started": "2023-07-05T08:25:37.528524Z",
          "shell.execute_reply": "2023-07-05T08:25:37.533918Z"
        },
        "trusted": true,
        "id": "3F205bAHKQWC",
        "outputId": "05cd0b38-22b8-4923-8fa3-8d52bed3d6df",
        "colab": {
          "base_uri": "https://localhost:8080/"
        }
      },
      "execution_count": 44,
      "outputs": [
        {
          "output_type": "execute_result",
          "data": {
            "text/plain": [
              "(93373, 7)"
            ]
          },
          "metadata": {},
          "execution_count": 44
        }
      ]
    },
    {
      "cell_type": "code",
      "source": [
        "16000 + 13373"
      ],
      "metadata": {
        "execution": {
          "iopub.status.busy": "2023-07-05T08:26:48.243965Z",
          "iopub.execute_input": "2023-07-05T08:26:48.244405Z",
          "iopub.status.idle": "2023-07-05T08:26:48.250806Z",
          "shell.execute_reply.started": "2023-07-05T08:26:48.244345Z",
          "shell.execute_reply": "2023-07-05T08:26:48.249893Z"
        },
        "trusted": true,
        "id": "_QqbHcHyKQWC",
        "outputId": "7ae8d715-386f-4aab-9569-31f0815e1830",
        "colab": {
          "base_uri": "https://localhost:8080/"
        }
      },
      "execution_count": 45,
      "outputs": [
        {
          "output_type": "execute_result",
          "data": {
            "text/plain": [
              "29373"
            ]
          },
          "metadata": {},
          "execution_count": 45
        }
      ]
    },
    {
      "cell_type": "code",
      "source": [
        "# FOR MULTIPLE COMMUNICATION ROUNDS\n",
        "\n",
        "\n",
        "'''\n",
        "# Divide datasetTrain_ex\n",
        "datasetTrain_1, datasetTrain_2, datasetTrain_3, datasetTrain_4, datasetTrain_5, dataleft = random_split(datasetTrain,\n",
        "                                                                                                        [100, 100, 100, 100, 100,\n",
        "                                                                                                         len(datasetTrain) - 500])\n",
        "'''\n",
        "# Divide datasetTrain_real\n",
        "datasetTrain_1, datasetTrain_2, datasetTrain_3, datasetTrain_4, datasetTrain_5 = random_split(datasetTrain,\n",
        "                                                                                              [29373, 16000, 16000, 16000, 16000])\n",
        "\n",
        "\n",
        "# Define 5 DataLoaders\n",
        "dataLoaderTrain_1 = DataLoader(dataset = datasetTrain_1, batch_size = trBatchSize,\n",
        "                               shuffle = True, num_workers = 2, pin_memory = True)\n",
        "dataLoaderTrain_2 = DataLoader(dataset = datasetTrain_2, batch_size = trBatchSize,\n",
        "                               shuffle = True, num_workers = 2, pin_memory = True)\n",
        "dataLoaderTrain_3 = DataLoader(dataset = datasetTrain_3, batch_size = trBatchSize,\n",
        "                               shuffle = True, num_workers = 2, pin_memory = True)\n",
        "dataLoaderTrain_4 = DataLoader(dataset = datasetTrain_4, batch_size = trBatchSize,\n",
        "                               shuffle = True, num_workers = 2, pin_memory = True)\n",
        "dataLoaderTrain_5 = DataLoader(dataset = datasetTrain_5, batch_size = trBatchSize,\n",
        "                               shuffle = True, num_workers = 2, pin_memory = True)\n",
        "\n",
        "# Define Valid and Test DataLoaders\n",
        "dataLoaderVal = DataLoader(dataset = datasetValid, batch_size = trBatchSize,\n",
        "                           shuffle = False, num_workers = 2, pin_memory = True)\n",
        "dataLoaderTest = DataLoader(dataset = datasetTest, num_workers = 2, pin_memory = True)"
      ],
      "metadata": {
        "execution": {
          "iopub.status.busy": "2023-07-05T08:26:52.69588Z",
          "iopub.execute_input": "2023-07-05T08:26:52.69624Z",
          "iopub.status.idle": "2023-07-05T08:26:52.731014Z",
          "shell.execute_reply.started": "2023-07-05T08:26:52.696209Z",
          "shell.execute_reply": "2023-07-05T08:26:52.730038Z"
        },
        "trusted": true,
        "id": "L0OwkUMNKQWC"
      },
      "execution_count": 46,
      "outputs": []
    },
    {
      "cell_type": "code",
      "source": [
        "com_round = 1\n",
        "fraction = 1.0\n",
        "epoch = 2\n",
        "batch = 48\n",
        "num_clients = 4"
      ],
      "metadata": {
        "execution": {
          "iopub.status.busy": "2023-07-05T08:32:30.716296Z",
          "iopub.execute_input": "2023-07-05T08:32:30.716689Z",
          "iopub.status.idle": "2023-07-05T08:32:30.724324Z",
          "shell.execute_reply.started": "2023-07-05T08:32:30.716652Z",
          "shell.execute_reply": "2023-07-05T08:32:30.72338Z"
        },
        "trusted": true,
        "id": "rPTU8MVxKQWD"
      },
      "execution_count": 47,
      "outputs": []
    },
    {
      "cell_type": "code",
      "source": [
        "dT = [datasetTrain_1, datasetTrain_2, datasetTrain_3, datasetTrain_4, datasetTrain_5]\n",
        "dLT = [dataLoaderTrain_1, dataLoaderTrain_2, dataLoaderTrain_3, dataLoaderTrain_4, dataLoaderTrain_5]\n",
        "\n",
        "model = DenseNet121(nnClassCount).cuda() # Step 0: Initialize global model and load the model\n",
        "model = torch.nn.DataParallel(model).cuda()\n",
        "\n",
        "for i in range(com_round):\n",
        "    print(\"[[[ Round {} Start ]]]\".format(i + 1))\n",
        "    params = [None] * num_clients\n",
        "    sel_clients = sorted(random.sample(range(num_clients),\n",
        "                                       round(num_clients*fraction))) # Step 1: select random fraction of clients\n",
        "    print(\"The number of clients:\", len(sel_clients))\n",
        "    for j in sel_clients: # Step 2: send weights to clients\n",
        "        print(\"<< Client {} Training Start >>\".format(j + 1))\n",
        "        train_valid_start = time.time()\n",
        "        params[j] = CheXpertTrainer.train(model, dLT[j], dataLoaderVal, # Step 3: Perform local computations\n",
        "                                          nnClassCount, trMaxEpoch = epoch, checkpoint = None)\n",
        "        train_valid_end = time.time()\n",
        "        client_time = round(train_valid_end - train_valid_start)\n",
        "        print(\"<< Client {} Training End: {} seconds elapsed >>\".format(j + 1, client_time))\n",
        "\n",
        "    fidx = [idx for idx in range(len(params)) if params[idx] != None][0]\n",
        "    lidx = [idx for idx in range(len(params)) if params[idx] != None][-1]\n",
        "    for key in params[fidx]: # Step 4: return updates to server\n",
        "        weights, weightn = [], []\n",
        "        for k in sel_clients:\n",
        "            weights.append(params[k][key]*len(dT[k]))\n",
        "            weightn.append(len(dT[k]))\n",
        "        params[lidx][key] = sum(weights) / sum(weightn) # weighted averaging model weights\n",
        "\n",
        "    model = DenseNet121(nnClassCount).cuda()\n",
        "    model = torch.nn.DataParallel(model).cuda()\n",
        "    model.load_state_dict(params[lidx]) # Step 5: server updates global state\n",
        "    print(\"[[[ Round {} End ]]]\".format(i + 1))\n",
        "\n",
        "print(\"Global model trained\")"
      ],
      "metadata": {
        "execution": {
          "iopub.status.busy": "2023-07-05T08:32:30.933707Z",
          "iopub.execute_input": "2023-07-05T08:32:30.933995Z",
          "iopub.status.idle": "2023-07-05T08:54:53.643769Z",
          "shell.execute_reply.started": "2023-07-05T08:32:30.933971Z",
          "shell.execute_reply": "2023-07-05T08:54:53.642535Z"
        },
        "trusted": true,
        "id": "XSslLd0IKQWD",
        "outputId": "81585ef2-4691-4d2f-8050-3aa9ef8e7101",
        "colab": {
          "base_uri": "https://localhost:8080/"
        }
      },
      "execution_count": 48,
      "outputs": [
        {
          "output_type": "stream",
          "name": "stderr",
          "text": [
            "/usr/local/lib/python3.11/dist-packages/torchvision/models/_utils.py:208: UserWarning: The parameter 'pretrained' is deprecated since 0.13 and may be removed in the future, please use 'weights' instead.\n",
            "  warnings.warn(\n",
            "/usr/local/lib/python3.11/dist-packages/torchvision/models/_utils.py:223: UserWarning: Arguments other than a weight enum or `None` for 'weights' are deprecated since 0.13 and may be removed in the future. The current behavior is equivalent to passing `weights=None`.\n",
            "  warnings.warn(msg)\n"
          ]
        },
        {
          "output_type": "stream",
          "name": "stdout",
          "text": [
            "[[[ Round 1 Start ]]]\n",
            "The number of clients: 4\n",
            "<< Client 1 Training Start >>\n",
            "29373/29373: [===============================>] - ETA 3.9s\n",
            "Training loss: 0.286, Valid loss: 0.241\n",
            "Epoch 1 [save] loss = tensor(0.2412, device='cuda:0')\n",
            "29373/29373: [===============================>] - ETA 0.6s\n",
            "Training loss: 0.243, Valid loss: 0.207\n",
            "Epoch 2 [save] loss = tensor(0.2070, device='cuda:0')\n",
            "Training time for each epoch: [312. 300.] seconds\n",
            "<< Client 1 Training End: 614 seconds elapsed >>\n",
            "<< Client 2 Training Start >>\n",
            "16000/16000: [===============================>] - ETA 0.4s\n",
            "Training loss: 0.229, Valid loss: 0.238\n",
            "Epoch 1 [save] loss = tensor(0.2379, device='cuda:0')\n",
            "16000/16000: [===============================>] - ETA 0.3s\n",
            "Training loss: 0.217, Valid loss: 0.210\n",
            "Epoch 2 [save] loss = tensor(0.2103, device='cuda:0')\n",
            "Training time for each epoch: [165. 163.] seconds\n",
            "<< Client 2 Training End: 330 seconds elapsed >>\n",
            "<< Client 3 Training Start >>\n",
            "16000/16000: [===============================>] - ETA 0.4s\n",
            "Training loss: 0.223, Valid loss: 0.217\n",
            "Epoch 1 [save] loss = tensor(0.2165, device='cuda:0')\n",
            "16000/16000: [===============================>] - ETA 0.3s\n",
            "Training loss: 0.205, Valid loss: 0.151\n",
            "Epoch 2 [save] loss = tensor(0.1511, device='cuda:0')\n",
            "Training time for each epoch: [165. 163.] seconds\n",
            "<< Client 3 Training End: 330 seconds elapsed >>\n",
            "<< Client 4 Training Start >>\n",
            "16000/16000: [===============================>] - ETA 0.4s\n",
            "Training loss: 0.219, Valid loss: 0.134\n",
            "Epoch 1 [save] loss = tensor(0.1339, device='cuda:0')\n",
            "16000/16000: [===============================>] - ETA 0.6s\n",
            "Training loss: 0.203, Valid loss: 0.185\n",
            "Epoch 2 [----] loss = tensor(0.1850, device='cuda:0')\n",
            "Training time for each epoch: [165. 164.] seconds\n",
            "<< Client 4 Training End: 330 seconds elapsed >>\n",
            "[[[ Round 1 End ]]]\n",
            "Global model trained\n"
          ]
        }
      ]
    },
    {
      "cell_type": "code",
      "source": [
        "save_path = \"method2_resnet50.pth\"\n",
        "# Save the trained model\n",
        "torch.save(model.state_dict(), save_path)\n"
      ],
      "metadata": {
        "id": "hVnyYSQRWhFN"
      },
      "execution_count": 50,
      "outputs": []
    },
    {
      "cell_type": "code",
      "source": [
        "# test time only\n",
        "model = DenseNet121(nnClassCount).cuda()\n",
        "model = torch.nn.DataParallel(model).cuda()\n",
        "model.load_state_dict(torch.load(\"/content/m-epoch_FL2.pth.tar\")['state_dict'])\n",
        "model.eval()\n",
        "# Step 5: server updates global state\n",
        "# print(\"[[[ Round {} End ]]]\".format(i + 1))"
      ],
      "metadata": {
        "execution": {
          "iopub.status.busy": "2023-07-05T08:31:37.2734Z",
          "iopub.status.idle": "2023-07-05T08:31:37.27379Z",
          "shell.execute_reply.started": "2023-07-05T08:31:37.273599Z",
          "shell.execute_reply": "2023-07-05T08:31:37.273618Z"
        },
        "trusted": true,
        "id": "hpQ1dUQLKQWD",
        "outputId": "495de390-67a3-4d93-c52b-5a1874134f5b",
        "colab": {
          "base_uri": "https://localhost:8080/"
        }
      },
      "execution_count": 53,
      "outputs": [
        {
          "output_type": "execute_result",
          "data": {
            "text/plain": [
              "DataParallel(\n",
              "  (module): DenseNet121(\n",
              "    (densenet121): DenseNet(\n",
              "      (features): Sequential(\n",
              "        (conv0): Conv2d(3, 64, kernel_size=(7, 7), stride=(2, 2), padding=(3, 3), bias=False)\n",
              "        (norm0): BatchNorm2d(64, eps=1e-05, momentum=0.1, affine=True, track_running_stats=True)\n",
              "        (relu0): ReLU(inplace=True)\n",
              "        (pool0): MaxPool2d(kernel_size=3, stride=2, padding=1, dilation=1, ceil_mode=False)\n",
              "        (denseblock1): _DenseBlock(\n",
              "          (denselayer1): _DenseLayer(\n",
              "            (norm1): BatchNorm2d(64, eps=1e-05, momentum=0.1, affine=True, track_running_stats=True)\n",
              "            (relu1): ReLU(inplace=True)\n",
              "            (conv1): Conv2d(64, 128, kernel_size=(1, 1), stride=(1, 1), bias=False)\n",
              "            (norm2): BatchNorm2d(128, eps=1e-05, momentum=0.1, affine=True, track_running_stats=True)\n",
              "            (relu2): ReLU(inplace=True)\n",
              "            (conv2): Conv2d(128, 32, kernel_size=(3, 3), stride=(1, 1), padding=(1, 1), bias=False)\n",
              "          )\n",
              "          (denselayer2): _DenseLayer(\n",
              "            (norm1): BatchNorm2d(96, eps=1e-05, momentum=0.1, affine=True, track_running_stats=True)\n",
              "            (relu1): ReLU(inplace=True)\n",
              "            (conv1): Conv2d(96, 128, kernel_size=(1, 1), stride=(1, 1), bias=False)\n",
              "            (norm2): BatchNorm2d(128, eps=1e-05, momentum=0.1, affine=True, track_running_stats=True)\n",
              "            (relu2): ReLU(inplace=True)\n",
              "            (conv2): Conv2d(128, 32, kernel_size=(3, 3), stride=(1, 1), padding=(1, 1), bias=False)\n",
              "          )\n",
              "          (denselayer3): _DenseLayer(\n",
              "            (norm1): BatchNorm2d(128, eps=1e-05, momentum=0.1, affine=True, track_running_stats=True)\n",
              "            (relu1): ReLU(inplace=True)\n",
              "            (conv1): Conv2d(128, 128, kernel_size=(1, 1), stride=(1, 1), bias=False)\n",
              "            (norm2): BatchNorm2d(128, eps=1e-05, momentum=0.1, affine=True, track_running_stats=True)\n",
              "            (relu2): ReLU(inplace=True)\n",
              "            (conv2): Conv2d(128, 32, kernel_size=(3, 3), stride=(1, 1), padding=(1, 1), bias=False)\n",
              "          )\n",
              "          (denselayer4): _DenseLayer(\n",
              "            (norm1): BatchNorm2d(160, eps=1e-05, momentum=0.1, affine=True, track_running_stats=True)\n",
              "            (relu1): ReLU(inplace=True)\n",
              "            (conv1): Conv2d(160, 128, kernel_size=(1, 1), stride=(1, 1), bias=False)\n",
              "            (norm2): BatchNorm2d(128, eps=1e-05, momentum=0.1, affine=True, track_running_stats=True)\n",
              "            (relu2): ReLU(inplace=True)\n",
              "            (conv2): Conv2d(128, 32, kernel_size=(3, 3), stride=(1, 1), padding=(1, 1), bias=False)\n",
              "          )\n",
              "          (denselayer5): _DenseLayer(\n",
              "            (norm1): BatchNorm2d(192, eps=1e-05, momentum=0.1, affine=True, track_running_stats=True)\n",
              "            (relu1): ReLU(inplace=True)\n",
              "            (conv1): Conv2d(192, 128, kernel_size=(1, 1), stride=(1, 1), bias=False)\n",
              "            (norm2): BatchNorm2d(128, eps=1e-05, momentum=0.1, affine=True, track_running_stats=True)\n",
              "            (relu2): ReLU(inplace=True)\n",
              "            (conv2): Conv2d(128, 32, kernel_size=(3, 3), stride=(1, 1), padding=(1, 1), bias=False)\n",
              "          )\n",
              "          (denselayer6): _DenseLayer(\n",
              "            (norm1): BatchNorm2d(224, eps=1e-05, momentum=0.1, affine=True, track_running_stats=True)\n",
              "            (relu1): ReLU(inplace=True)\n",
              "            (conv1): Conv2d(224, 128, kernel_size=(1, 1), stride=(1, 1), bias=False)\n",
              "            (norm2): BatchNorm2d(128, eps=1e-05, momentum=0.1, affine=True, track_running_stats=True)\n",
              "            (relu2): ReLU(inplace=True)\n",
              "            (conv2): Conv2d(128, 32, kernel_size=(3, 3), stride=(1, 1), padding=(1, 1), bias=False)\n",
              "          )\n",
              "        )\n",
              "        (transition1): _Transition(\n",
              "          (norm): BatchNorm2d(256, eps=1e-05, momentum=0.1, affine=True, track_running_stats=True)\n",
              "          (relu): ReLU(inplace=True)\n",
              "          (conv): Conv2d(256, 128, kernel_size=(1, 1), stride=(1, 1), bias=False)\n",
              "          (pool): AvgPool2d(kernel_size=2, stride=2, padding=0)\n",
              "        )\n",
              "        (denseblock2): _DenseBlock(\n",
              "          (denselayer1): _DenseLayer(\n",
              "            (norm1): BatchNorm2d(128, eps=1e-05, momentum=0.1, affine=True, track_running_stats=True)\n",
              "            (relu1): ReLU(inplace=True)\n",
              "            (conv1): Conv2d(128, 128, kernel_size=(1, 1), stride=(1, 1), bias=False)\n",
              "            (norm2): BatchNorm2d(128, eps=1e-05, momentum=0.1, affine=True, track_running_stats=True)\n",
              "            (relu2): ReLU(inplace=True)\n",
              "            (conv2): Conv2d(128, 32, kernel_size=(3, 3), stride=(1, 1), padding=(1, 1), bias=False)\n",
              "          )\n",
              "          (denselayer2): _DenseLayer(\n",
              "            (norm1): BatchNorm2d(160, eps=1e-05, momentum=0.1, affine=True, track_running_stats=True)\n",
              "            (relu1): ReLU(inplace=True)\n",
              "            (conv1): Conv2d(160, 128, kernel_size=(1, 1), stride=(1, 1), bias=False)\n",
              "            (norm2): BatchNorm2d(128, eps=1e-05, momentum=0.1, affine=True, track_running_stats=True)\n",
              "            (relu2): ReLU(inplace=True)\n",
              "            (conv2): Conv2d(128, 32, kernel_size=(3, 3), stride=(1, 1), padding=(1, 1), bias=False)\n",
              "          )\n",
              "          (denselayer3): _DenseLayer(\n",
              "            (norm1): BatchNorm2d(192, eps=1e-05, momentum=0.1, affine=True, track_running_stats=True)\n",
              "            (relu1): ReLU(inplace=True)\n",
              "            (conv1): Conv2d(192, 128, kernel_size=(1, 1), stride=(1, 1), bias=False)\n",
              "            (norm2): BatchNorm2d(128, eps=1e-05, momentum=0.1, affine=True, track_running_stats=True)\n",
              "            (relu2): ReLU(inplace=True)\n",
              "            (conv2): Conv2d(128, 32, kernel_size=(3, 3), stride=(1, 1), padding=(1, 1), bias=False)\n",
              "          )\n",
              "          (denselayer4): _DenseLayer(\n",
              "            (norm1): BatchNorm2d(224, eps=1e-05, momentum=0.1, affine=True, track_running_stats=True)\n",
              "            (relu1): ReLU(inplace=True)\n",
              "            (conv1): Conv2d(224, 128, kernel_size=(1, 1), stride=(1, 1), bias=False)\n",
              "            (norm2): BatchNorm2d(128, eps=1e-05, momentum=0.1, affine=True, track_running_stats=True)\n",
              "            (relu2): ReLU(inplace=True)\n",
              "            (conv2): Conv2d(128, 32, kernel_size=(3, 3), stride=(1, 1), padding=(1, 1), bias=False)\n",
              "          )\n",
              "          (denselayer5): _DenseLayer(\n",
              "            (norm1): BatchNorm2d(256, eps=1e-05, momentum=0.1, affine=True, track_running_stats=True)\n",
              "            (relu1): ReLU(inplace=True)\n",
              "            (conv1): Conv2d(256, 128, kernel_size=(1, 1), stride=(1, 1), bias=False)\n",
              "            (norm2): BatchNorm2d(128, eps=1e-05, momentum=0.1, affine=True, track_running_stats=True)\n",
              "            (relu2): ReLU(inplace=True)\n",
              "            (conv2): Conv2d(128, 32, kernel_size=(3, 3), stride=(1, 1), padding=(1, 1), bias=False)\n",
              "          )\n",
              "          (denselayer6): _DenseLayer(\n",
              "            (norm1): BatchNorm2d(288, eps=1e-05, momentum=0.1, affine=True, track_running_stats=True)\n",
              "            (relu1): ReLU(inplace=True)\n",
              "            (conv1): Conv2d(288, 128, kernel_size=(1, 1), stride=(1, 1), bias=False)\n",
              "            (norm2): BatchNorm2d(128, eps=1e-05, momentum=0.1, affine=True, track_running_stats=True)\n",
              "            (relu2): ReLU(inplace=True)\n",
              "            (conv2): Conv2d(128, 32, kernel_size=(3, 3), stride=(1, 1), padding=(1, 1), bias=False)\n",
              "          )\n",
              "          (denselayer7): _DenseLayer(\n",
              "            (norm1): BatchNorm2d(320, eps=1e-05, momentum=0.1, affine=True, track_running_stats=True)\n",
              "            (relu1): ReLU(inplace=True)\n",
              "            (conv1): Conv2d(320, 128, kernel_size=(1, 1), stride=(1, 1), bias=False)\n",
              "            (norm2): BatchNorm2d(128, eps=1e-05, momentum=0.1, affine=True, track_running_stats=True)\n",
              "            (relu2): ReLU(inplace=True)\n",
              "            (conv2): Conv2d(128, 32, kernel_size=(3, 3), stride=(1, 1), padding=(1, 1), bias=False)\n",
              "          )\n",
              "          (denselayer8): _DenseLayer(\n",
              "            (norm1): BatchNorm2d(352, eps=1e-05, momentum=0.1, affine=True, track_running_stats=True)\n",
              "            (relu1): ReLU(inplace=True)\n",
              "            (conv1): Conv2d(352, 128, kernel_size=(1, 1), stride=(1, 1), bias=False)\n",
              "            (norm2): BatchNorm2d(128, eps=1e-05, momentum=0.1, affine=True, track_running_stats=True)\n",
              "            (relu2): ReLU(inplace=True)\n",
              "            (conv2): Conv2d(128, 32, kernel_size=(3, 3), stride=(1, 1), padding=(1, 1), bias=False)\n",
              "          )\n",
              "          (denselayer9): _DenseLayer(\n",
              "            (norm1): BatchNorm2d(384, eps=1e-05, momentum=0.1, affine=True, track_running_stats=True)\n",
              "            (relu1): ReLU(inplace=True)\n",
              "            (conv1): Conv2d(384, 128, kernel_size=(1, 1), stride=(1, 1), bias=False)\n",
              "            (norm2): BatchNorm2d(128, eps=1e-05, momentum=0.1, affine=True, track_running_stats=True)\n",
              "            (relu2): ReLU(inplace=True)\n",
              "            (conv2): Conv2d(128, 32, kernel_size=(3, 3), stride=(1, 1), padding=(1, 1), bias=False)\n",
              "          )\n",
              "          (denselayer10): _DenseLayer(\n",
              "            (norm1): BatchNorm2d(416, eps=1e-05, momentum=0.1, affine=True, track_running_stats=True)\n",
              "            (relu1): ReLU(inplace=True)\n",
              "            (conv1): Conv2d(416, 128, kernel_size=(1, 1), stride=(1, 1), bias=False)\n",
              "            (norm2): BatchNorm2d(128, eps=1e-05, momentum=0.1, affine=True, track_running_stats=True)\n",
              "            (relu2): ReLU(inplace=True)\n",
              "            (conv2): Conv2d(128, 32, kernel_size=(3, 3), stride=(1, 1), padding=(1, 1), bias=False)\n",
              "          )\n",
              "          (denselayer11): _DenseLayer(\n",
              "            (norm1): BatchNorm2d(448, eps=1e-05, momentum=0.1, affine=True, track_running_stats=True)\n",
              "            (relu1): ReLU(inplace=True)\n",
              "            (conv1): Conv2d(448, 128, kernel_size=(1, 1), stride=(1, 1), bias=False)\n",
              "            (norm2): BatchNorm2d(128, eps=1e-05, momentum=0.1, affine=True, track_running_stats=True)\n",
              "            (relu2): ReLU(inplace=True)\n",
              "            (conv2): Conv2d(128, 32, kernel_size=(3, 3), stride=(1, 1), padding=(1, 1), bias=False)\n",
              "          )\n",
              "          (denselayer12): _DenseLayer(\n",
              "            (norm1): BatchNorm2d(480, eps=1e-05, momentum=0.1, affine=True, track_running_stats=True)\n",
              "            (relu1): ReLU(inplace=True)\n",
              "            (conv1): Conv2d(480, 128, kernel_size=(1, 1), stride=(1, 1), bias=False)\n",
              "            (norm2): BatchNorm2d(128, eps=1e-05, momentum=0.1, affine=True, track_running_stats=True)\n",
              "            (relu2): ReLU(inplace=True)\n",
              "            (conv2): Conv2d(128, 32, kernel_size=(3, 3), stride=(1, 1), padding=(1, 1), bias=False)\n",
              "          )\n",
              "        )\n",
              "        (transition2): _Transition(\n",
              "          (norm): BatchNorm2d(512, eps=1e-05, momentum=0.1, affine=True, track_running_stats=True)\n",
              "          (relu): ReLU(inplace=True)\n",
              "          (conv): Conv2d(512, 256, kernel_size=(1, 1), stride=(1, 1), bias=False)\n",
              "          (pool): AvgPool2d(kernel_size=2, stride=2, padding=0)\n",
              "        )\n",
              "        (denseblock3): _DenseBlock(\n",
              "          (denselayer1): _DenseLayer(\n",
              "            (norm1): BatchNorm2d(256, eps=1e-05, momentum=0.1, affine=True, track_running_stats=True)\n",
              "            (relu1): ReLU(inplace=True)\n",
              "            (conv1): Conv2d(256, 128, kernel_size=(1, 1), stride=(1, 1), bias=False)\n",
              "            (norm2): BatchNorm2d(128, eps=1e-05, momentum=0.1, affine=True, track_running_stats=True)\n",
              "            (relu2): ReLU(inplace=True)\n",
              "            (conv2): Conv2d(128, 32, kernel_size=(3, 3), stride=(1, 1), padding=(1, 1), bias=False)\n",
              "          )\n",
              "          (denselayer2): _DenseLayer(\n",
              "            (norm1): BatchNorm2d(288, eps=1e-05, momentum=0.1, affine=True, track_running_stats=True)\n",
              "            (relu1): ReLU(inplace=True)\n",
              "            (conv1): Conv2d(288, 128, kernel_size=(1, 1), stride=(1, 1), bias=False)\n",
              "            (norm2): BatchNorm2d(128, eps=1e-05, momentum=0.1, affine=True, track_running_stats=True)\n",
              "            (relu2): ReLU(inplace=True)\n",
              "            (conv2): Conv2d(128, 32, kernel_size=(3, 3), stride=(1, 1), padding=(1, 1), bias=False)\n",
              "          )\n",
              "          (denselayer3): _DenseLayer(\n",
              "            (norm1): BatchNorm2d(320, eps=1e-05, momentum=0.1, affine=True, track_running_stats=True)\n",
              "            (relu1): ReLU(inplace=True)\n",
              "            (conv1): Conv2d(320, 128, kernel_size=(1, 1), stride=(1, 1), bias=False)\n",
              "            (norm2): BatchNorm2d(128, eps=1e-05, momentum=0.1, affine=True, track_running_stats=True)\n",
              "            (relu2): ReLU(inplace=True)\n",
              "            (conv2): Conv2d(128, 32, kernel_size=(3, 3), stride=(1, 1), padding=(1, 1), bias=False)\n",
              "          )\n",
              "          (denselayer4): _DenseLayer(\n",
              "            (norm1): BatchNorm2d(352, eps=1e-05, momentum=0.1, affine=True, track_running_stats=True)\n",
              "            (relu1): ReLU(inplace=True)\n",
              "            (conv1): Conv2d(352, 128, kernel_size=(1, 1), stride=(1, 1), bias=False)\n",
              "            (norm2): BatchNorm2d(128, eps=1e-05, momentum=0.1, affine=True, track_running_stats=True)\n",
              "            (relu2): ReLU(inplace=True)\n",
              "            (conv2): Conv2d(128, 32, kernel_size=(3, 3), stride=(1, 1), padding=(1, 1), bias=False)\n",
              "          )\n",
              "          (denselayer5): _DenseLayer(\n",
              "            (norm1): BatchNorm2d(384, eps=1e-05, momentum=0.1, affine=True, track_running_stats=True)\n",
              "            (relu1): ReLU(inplace=True)\n",
              "            (conv1): Conv2d(384, 128, kernel_size=(1, 1), stride=(1, 1), bias=False)\n",
              "            (norm2): BatchNorm2d(128, eps=1e-05, momentum=0.1, affine=True, track_running_stats=True)\n",
              "            (relu2): ReLU(inplace=True)\n",
              "            (conv2): Conv2d(128, 32, kernel_size=(3, 3), stride=(1, 1), padding=(1, 1), bias=False)\n",
              "          )\n",
              "          (denselayer6): _DenseLayer(\n",
              "            (norm1): BatchNorm2d(416, eps=1e-05, momentum=0.1, affine=True, track_running_stats=True)\n",
              "            (relu1): ReLU(inplace=True)\n",
              "            (conv1): Conv2d(416, 128, kernel_size=(1, 1), stride=(1, 1), bias=False)\n",
              "            (norm2): BatchNorm2d(128, eps=1e-05, momentum=0.1, affine=True, track_running_stats=True)\n",
              "            (relu2): ReLU(inplace=True)\n",
              "            (conv2): Conv2d(128, 32, kernel_size=(3, 3), stride=(1, 1), padding=(1, 1), bias=False)\n",
              "          )\n",
              "          (denselayer7): _DenseLayer(\n",
              "            (norm1): BatchNorm2d(448, eps=1e-05, momentum=0.1, affine=True, track_running_stats=True)\n",
              "            (relu1): ReLU(inplace=True)\n",
              "            (conv1): Conv2d(448, 128, kernel_size=(1, 1), stride=(1, 1), bias=False)\n",
              "            (norm2): BatchNorm2d(128, eps=1e-05, momentum=0.1, affine=True, track_running_stats=True)\n",
              "            (relu2): ReLU(inplace=True)\n",
              "            (conv2): Conv2d(128, 32, kernel_size=(3, 3), stride=(1, 1), padding=(1, 1), bias=False)\n",
              "          )\n",
              "          (denselayer8): _DenseLayer(\n",
              "            (norm1): BatchNorm2d(480, eps=1e-05, momentum=0.1, affine=True, track_running_stats=True)\n",
              "            (relu1): ReLU(inplace=True)\n",
              "            (conv1): Conv2d(480, 128, kernel_size=(1, 1), stride=(1, 1), bias=False)\n",
              "            (norm2): BatchNorm2d(128, eps=1e-05, momentum=0.1, affine=True, track_running_stats=True)\n",
              "            (relu2): ReLU(inplace=True)\n",
              "            (conv2): Conv2d(128, 32, kernel_size=(3, 3), stride=(1, 1), padding=(1, 1), bias=False)\n",
              "          )\n",
              "          (denselayer9): _DenseLayer(\n",
              "            (norm1): BatchNorm2d(512, eps=1e-05, momentum=0.1, affine=True, track_running_stats=True)\n",
              "            (relu1): ReLU(inplace=True)\n",
              "            (conv1): Conv2d(512, 128, kernel_size=(1, 1), stride=(1, 1), bias=False)\n",
              "            (norm2): BatchNorm2d(128, eps=1e-05, momentum=0.1, affine=True, track_running_stats=True)\n",
              "            (relu2): ReLU(inplace=True)\n",
              "            (conv2): Conv2d(128, 32, kernel_size=(3, 3), stride=(1, 1), padding=(1, 1), bias=False)\n",
              "          )\n",
              "          (denselayer10): _DenseLayer(\n",
              "            (norm1): BatchNorm2d(544, eps=1e-05, momentum=0.1, affine=True, track_running_stats=True)\n",
              "            (relu1): ReLU(inplace=True)\n",
              "            (conv1): Conv2d(544, 128, kernel_size=(1, 1), stride=(1, 1), bias=False)\n",
              "            (norm2): BatchNorm2d(128, eps=1e-05, momentum=0.1, affine=True, track_running_stats=True)\n",
              "            (relu2): ReLU(inplace=True)\n",
              "            (conv2): Conv2d(128, 32, kernel_size=(3, 3), stride=(1, 1), padding=(1, 1), bias=False)\n",
              "          )\n",
              "          (denselayer11): _DenseLayer(\n",
              "            (norm1): BatchNorm2d(576, eps=1e-05, momentum=0.1, affine=True, track_running_stats=True)\n",
              "            (relu1): ReLU(inplace=True)\n",
              "            (conv1): Conv2d(576, 128, kernel_size=(1, 1), stride=(1, 1), bias=False)\n",
              "            (norm2): BatchNorm2d(128, eps=1e-05, momentum=0.1, affine=True, track_running_stats=True)\n",
              "            (relu2): ReLU(inplace=True)\n",
              "            (conv2): Conv2d(128, 32, kernel_size=(3, 3), stride=(1, 1), padding=(1, 1), bias=False)\n",
              "          )\n",
              "          (denselayer12): _DenseLayer(\n",
              "            (norm1): BatchNorm2d(608, eps=1e-05, momentum=0.1, affine=True, track_running_stats=True)\n",
              "            (relu1): ReLU(inplace=True)\n",
              "            (conv1): Conv2d(608, 128, kernel_size=(1, 1), stride=(1, 1), bias=False)\n",
              "            (norm2): BatchNorm2d(128, eps=1e-05, momentum=0.1, affine=True, track_running_stats=True)\n",
              "            (relu2): ReLU(inplace=True)\n",
              "            (conv2): Conv2d(128, 32, kernel_size=(3, 3), stride=(1, 1), padding=(1, 1), bias=False)\n",
              "          )\n",
              "          (denselayer13): _DenseLayer(\n",
              "            (norm1): BatchNorm2d(640, eps=1e-05, momentum=0.1, affine=True, track_running_stats=True)\n",
              "            (relu1): ReLU(inplace=True)\n",
              "            (conv1): Conv2d(640, 128, kernel_size=(1, 1), stride=(1, 1), bias=False)\n",
              "            (norm2): BatchNorm2d(128, eps=1e-05, momentum=0.1, affine=True, track_running_stats=True)\n",
              "            (relu2): ReLU(inplace=True)\n",
              "            (conv2): Conv2d(128, 32, kernel_size=(3, 3), stride=(1, 1), padding=(1, 1), bias=False)\n",
              "          )\n",
              "          (denselayer14): _DenseLayer(\n",
              "            (norm1): BatchNorm2d(672, eps=1e-05, momentum=0.1, affine=True, track_running_stats=True)\n",
              "            (relu1): ReLU(inplace=True)\n",
              "            (conv1): Conv2d(672, 128, kernel_size=(1, 1), stride=(1, 1), bias=False)\n",
              "            (norm2): BatchNorm2d(128, eps=1e-05, momentum=0.1, affine=True, track_running_stats=True)\n",
              "            (relu2): ReLU(inplace=True)\n",
              "            (conv2): Conv2d(128, 32, kernel_size=(3, 3), stride=(1, 1), padding=(1, 1), bias=False)\n",
              "          )\n",
              "          (denselayer15): _DenseLayer(\n",
              "            (norm1): BatchNorm2d(704, eps=1e-05, momentum=0.1, affine=True, track_running_stats=True)\n",
              "            (relu1): ReLU(inplace=True)\n",
              "            (conv1): Conv2d(704, 128, kernel_size=(1, 1), stride=(1, 1), bias=False)\n",
              "            (norm2): BatchNorm2d(128, eps=1e-05, momentum=0.1, affine=True, track_running_stats=True)\n",
              "            (relu2): ReLU(inplace=True)\n",
              "            (conv2): Conv2d(128, 32, kernel_size=(3, 3), stride=(1, 1), padding=(1, 1), bias=False)\n",
              "          )\n",
              "          (denselayer16): _DenseLayer(\n",
              "            (norm1): BatchNorm2d(736, eps=1e-05, momentum=0.1, affine=True, track_running_stats=True)\n",
              "            (relu1): ReLU(inplace=True)\n",
              "            (conv1): Conv2d(736, 128, kernel_size=(1, 1), stride=(1, 1), bias=False)\n",
              "            (norm2): BatchNorm2d(128, eps=1e-05, momentum=0.1, affine=True, track_running_stats=True)\n",
              "            (relu2): ReLU(inplace=True)\n",
              "            (conv2): Conv2d(128, 32, kernel_size=(3, 3), stride=(1, 1), padding=(1, 1), bias=False)\n",
              "          )\n",
              "          (denselayer17): _DenseLayer(\n",
              "            (norm1): BatchNorm2d(768, eps=1e-05, momentum=0.1, affine=True, track_running_stats=True)\n",
              "            (relu1): ReLU(inplace=True)\n",
              "            (conv1): Conv2d(768, 128, kernel_size=(1, 1), stride=(1, 1), bias=False)\n",
              "            (norm2): BatchNorm2d(128, eps=1e-05, momentum=0.1, affine=True, track_running_stats=True)\n",
              "            (relu2): ReLU(inplace=True)\n",
              "            (conv2): Conv2d(128, 32, kernel_size=(3, 3), stride=(1, 1), padding=(1, 1), bias=False)\n",
              "          )\n",
              "          (denselayer18): _DenseLayer(\n",
              "            (norm1): BatchNorm2d(800, eps=1e-05, momentum=0.1, affine=True, track_running_stats=True)\n",
              "            (relu1): ReLU(inplace=True)\n",
              "            (conv1): Conv2d(800, 128, kernel_size=(1, 1), stride=(1, 1), bias=False)\n",
              "            (norm2): BatchNorm2d(128, eps=1e-05, momentum=0.1, affine=True, track_running_stats=True)\n",
              "            (relu2): ReLU(inplace=True)\n",
              "            (conv2): Conv2d(128, 32, kernel_size=(3, 3), stride=(1, 1), padding=(1, 1), bias=False)\n",
              "          )\n",
              "          (denselayer19): _DenseLayer(\n",
              "            (norm1): BatchNorm2d(832, eps=1e-05, momentum=0.1, affine=True, track_running_stats=True)\n",
              "            (relu1): ReLU(inplace=True)\n",
              "            (conv1): Conv2d(832, 128, kernel_size=(1, 1), stride=(1, 1), bias=False)\n",
              "            (norm2): BatchNorm2d(128, eps=1e-05, momentum=0.1, affine=True, track_running_stats=True)\n",
              "            (relu2): ReLU(inplace=True)\n",
              "            (conv2): Conv2d(128, 32, kernel_size=(3, 3), stride=(1, 1), padding=(1, 1), bias=False)\n",
              "          )\n",
              "          (denselayer20): _DenseLayer(\n",
              "            (norm1): BatchNorm2d(864, eps=1e-05, momentum=0.1, affine=True, track_running_stats=True)\n",
              "            (relu1): ReLU(inplace=True)\n",
              "            (conv1): Conv2d(864, 128, kernel_size=(1, 1), stride=(1, 1), bias=False)\n",
              "            (norm2): BatchNorm2d(128, eps=1e-05, momentum=0.1, affine=True, track_running_stats=True)\n",
              "            (relu2): ReLU(inplace=True)\n",
              "            (conv2): Conv2d(128, 32, kernel_size=(3, 3), stride=(1, 1), padding=(1, 1), bias=False)\n",
              "          )\n",
              "          (denselayer21): _DenseLayer(\n",
              "            (norm1): BatchNorm2d(896, eps=1e-05, momentum=0.1, affine=True, track_running_stats=True)\n",
              "            (relu1): ReLU(inplace=True)\n",
              "            (conv1): Conv2d(896, 128, kernel_size=(1, 1), stride=(1, 1), bias=False)\n",
              "            (norm2): BatchNorm2d(128, eps=1e-05, momentum=0.1, affine=True, track_running_stats=True)\n",
              "            (relu2): ReLU(inplace=True)\n",
              "            (conv2): Conv2d(128, 32, kernel_size=(3, 3), stride=(1, 1), padding=(1, 1), bias=False)\n",
              "          )\n",
              "          (denselayer22): _DenseLayer(\n",
              "            (norm1): BatchNorm2d(928, eps=1e-05, momentum=0.1, affine=True, track_running_stats=True)\n",
              "            (relu1): ReLU(inplace=True)\n",
              "            (conv1): Conv2d(928, 128, kernel_size=(1, 1), stride=(1, 1), bias=False)\n",
              "            (norm2): BatchNorm2d(128, eps=1e-05, momentum=0.1, affine=True, track_running_stats=True)\n",
              "            (relu2): ReLU(inplace=True)\n",
              "            (conv2): Conv2d(128, 32, kernel_size=(3, 3), stride=(1, 1), padding=(1, 1), bias=False)\n",
              "          )\n",
              "          (denselayer23): _DenseLayer(\n",
              "            (norm1): BatchNorm2d(960, eps=1e-05, momentum=0.1, affine=True, track_running_stats=True)\n",
              "            (relu1): ReLU(inplace=True)\n",
              "            (conv1): Conv2d(960, 128, kernel_size=(1, 1), stride=(1, 1), bias=False)\n",
              "            (norm2): BatchNorm2d(128, eps=1e-05, momentum=0.1, affine=True, track_running_stats=True)\n",
              "            (relu2): ReLU(inplace=True)\n",
              "            (conv2): Conv2d(128, 32, kernel_size=(3, 3), stride=(1, 1), padding=(1, 1), bias=False)\n",
              "          )\n",
              "          (denselayer24): _DenseLayer(\n",
              "            (norm1): BatchNorm2d(992, eps=1e-05, momentum=0.1, affine=True, track_running_stats=True)\n",
              "            (relu1): ReLU(inplace=True)\n",
              "            (conv1): Conv2d(992, 128, kernel_size=(1, 1), stride=(1, 1), bias=False)\n",
              "            (norm2): BatchNorm2d(128, eps=1e-05, momentum=0.1, affine=True, track_running_stats=True)\n",
              "            (relu2): ReLU(inplace=True)\n",
              "            (conv2): Conv2d(128, 32, kernel_size=(3, 3), stride=(1, 1), padding=(1, 1), bias=False)\n",
              "          )\n",
              "        )\n",
              "        (transition3): _Transition(\n",
              "          (norm): BatchNorm2d(1024, eps=1e-05, momentum=0.1, affine=True, track_running_stats=True)\n",
              "          (relu): ReLU(inplace=True)\n",
              "          (conv): Conv2d(1024, 512, kernel_size=(1, 1), stride=(1, 1), bias=False)\n",
              "          (pool): AvgPool2d(kernel_size=2, stride=2, padding=0)\n",
              "        )\n",
              "        (denseblock4): _DenseBlock(\n",
              "          (denselayer1): _DenseLayer(\n",
              "            (norm1): BatchNorm2d(512, eps=1e-05, momentum=0.1, affine=True, track_running_stats=True)\n",
              "            (relu1): ReLU(inplace=True)\n",
              "            (conv1): Conv2d(512, 128, kernel_size=(1, 1), stride=(1, 1), bias=False)\n",
              "            (norm2): BatchNorm2d(128, eps=1e-05, momentum=0.1, affine=True, track_running_stats=True)\n",
              "            (relu2): ReLU(inplace=True)\n",
              "            (conv2): Conv2d(128, 32, kernel_size=(3, 3), stride=(1, 1), padding=(1, 1), bias=False)\n",
              "          )\n",
              "          (denselayer2): _DenseLayer(\n",
              "            (norm1): BatchNorm2d(544, eps=1e-05, momentum=0.1, affine=True, track_running_stats=True)\n",
              "            (relu1): ReLU(inplace=True)\n",
              "            (conv1): Conv2d(544, 128, kernel_size=(1, 1), stride=(1, 1), bias=False)\n",
              "            (norm2): BatchNorm2d(128, eps=1e-05, momentum=0.1, affine=True, track_running_stats=True)\n",
              "            (relu2): ReLU(inplace=True)\n",
              "            (conv2): Conv2d(128, 32, kernel_size=(3, 3), stride=(1, 1), padding=(1, 1), bias=False)\n",
              "          )\n",
              "          (denselayer3): _DenseLayer(\n",
              "            (norm1): BatchNorm2d(576, eps=1e-05, momentum=0.1, affine=True, track_running_stats=True)\n",
              "            (relu1): ReLU(inplace=True)\n",
              "            (conv1): Conv2d(576, 128, kernel_size=(1, 1), stride=(1, 1), bias=False)\n",
              "            (norm2): BatchNorm2d(128, eps=1e-05, momentum=0.1, affine=True, track_running_stats=True)\n",
              "            (relu2): ReLU(inplace=True)\n",
              "            (conv2): Conv2d(128, 32, kernel_size=(3, 3), stride=(1, 1), padding=(1, 1), bias=False)\n",
              "          )\n",
              "          (denselayer4): _DenseLayer(\n",
              "            (norm1): BatchNorm2d(608, eps=1e-05, momentum=0.1, affine=True, track_running_stats=True)\n",
              "            (relu1): ReLU(inplace=True)\n",
              "            (conv1): Conv2d(608, 128, kernel_size=(1, 1), stride=(1, 1), bias=False)\n",
              "            (norm2): BatchNorm2d(128, eps=1e-05, momentum=0.1, affine=True, track_running_stats=True)\n",
              "            (relu2): ReLU(inplace=True)\n",
              "            (conv2): Conv2d(128, 32, kernel_size=(3, 3), stride=(1, 1), padding=(1, 1), bias=False)\n",
              "          )\n",
              "          (denselayer5): _DenseLayer(\n",
              "            (norm1): BatchNorm2d(640, eps=1e-05, momentum=0.1, affine=True, track_running_stats=True)\n",
              "            (relu1): ReLU(inplace=True)\n",
              "            (conv1): Conv2d(640, 128, kernel_size=(1, 1), stride=(1, 1), bias=False)\n",
              "            (norm2): BatchNorm2d(128, eps=1e-05, momentum=0.1, affine=True, track_running_stats=True)\n",
              "            (relu2): ReLU(inplace=True)\n",
              "            (conv2): Conv2d(128, 32, kernel_size=(3, 3), stride=(1, 1), padding=(1, 1), bias=False)\n",
              "          )\n",
              "          (denselayer6): _DenseLayer(\n",
              "            (norm1): BatchNorm2d(672, eps=1e-05, momentum=0.1, affine=True, track_running_stats=True)\n",
              "            (relu1): ReLU(inplace=True)\n",
              "            (conv1): Conv2d(672, 128, kernel_size=(1, 1), stride=(1, 1), bias=False)\n",
              "            (norm2): BatchNorm2d(128, eps=1e-05, momentum=0.1, affine=True, track_running_stats=True)\n",
              "            (relu2): ReLU(inplace=True)\n",
              "            (conv2): Conv2d(128, 32, kernel_size=(3, 3), stride=(1, 1), padding=(1, 1), bias=False)\n",
              "          )\n",
              "          (denselayer7): _DenseLayer(\n",
              "            (norm1): BatchNorm2d(704, eps=1e-05, momentum=0.1, affine=True, track_running_stats=True)\n",
              "            (relu1): ReLU(inplace=True)\n",
              "            (conv1): Conv2d(704, 128, kernel_size=(1, 1), stride=(1, 1), bias=False)\n",
              "            (norm2): BatchNorm2d(128, eps=1e-05, momentum=0.1, affine=True, track_running_stats=True)\n",
              "            (relu2): ReLU(inplace=True)\n",
              "            (conv2): Conv2d(128, 32, kernel_size=(3, 3), stride=(1, 1), padding=(1, 1), bias=False)\n",
              "          )\n",
              "          (denselayer8): _DenseLayer(\n",
              "            (norm1): BatchNorm2d(736, eps=1e-05, momentum=0.1, affine=True, track_running_stats=True)\n",
              "            (relu1): ReLU(inplace=True)\n",
              "            (conv1): Conv2d(736, 128, kernel_size=(1, 1), stride=(1, 1), bias=False)\n",
              "            (norm2): BatchNorm2d(128, eps=1e-05, momentum=0.1, affine=True, track_running_stats=True)\n",
              "            (relu2): ReLU(inplace=True)\n",
              "            (conv2): Conv2d(128, 32, kernel_size=(3, 3), stride=(1, 1), padding=(1, 1), bias=False)\n",
              "          )\n",
              "          (denselayer9): _DenseLayer(\n",
              "            (norm1): BatchNorm2d(768, eps=1e-05, momentum=0.1, affine=True, track_running_stats=True)\n",
              "            (relu1): ReLU(inplace=True)\n",
              "            (conv1): Conv2d(768, 128, kernel_size=(1, 1), stride=(1, 1), bias=False)\n",
              "            (norm2): BatchNorm2d(128, eps=1e-05, momentum=0.1, affine=True, track_running_stats=True)\n",
              "            (relu2): ReLU(inplace=True)\n",
              "            (conv2): Conv2d(128, 32, kernel_size=(3, 3), stride=(1, 1), padding=(1, 1), bias=False)\n",
              "          )\n",
              "          (denselayer10): _DenseLayer(\n",
              "            (norm1): BatchNorm2d(800, eps=1e-05, momentum=0.1, affine=True, track_running_stats=True)\n",
              "            (relu1): ReLU(inplace=True)\n",
              "            (conv1): Conv2d(800, 128, kernel_size=(1, 1), stride=(1, 1), bias=False)\n",
              "            (norm2): BatchNorm2d(128, eps=1e-05, momentum=0.1, affine=True, track_running_stats=True)\n",
              "            (relu2): ReLU(inplace=True)\n",
              "            (conv2): Conv2d(128, 32, kernel_size=(3, 3), stride=(1, 1), padding=(1, 1), bias=False)\n",
              "          )\n",
              "          (denselayer11): _DenseLayer(\n",
              "            (norm1): BatchNorm2d(832, eps=1e-05, momentum=0.1, affine=True, track_running_stats=True)\n",
              "            (relu1): ReLU(inplace=True)\n",
              "            (conv1): Conv2d(832, 128, kernel_size=(1, 1), stride=(1, 1), bias=False)\n",
              "            (norm2): BatchNorm2d(128, eps=1e-05, momentum=0.1, affine=True, track_running_stats=True)\n",
              "            (relu2): ReLU(inplace=True)\n",
              "            (conv2): Conv2d(128, 32, kernel_size=(3, 3), stride=(1, 1), padding=(1, 1), bias=False)\n",
              "          )\n",
              "          (denselayer12): _DenseLayer(\n",
              "            (norm1): BatchNorm2d(864, eps=1e-05, momentum=0.1, affine=True, track_running_stats=True)\n",
              "            (relu1): ReLU(inplace=True)\n",
              "            (conv1): Conv2d(864, 128, kernel_size=(1, 1), stride=(1, 1), bias=False)\n",
              "            (norm2): BatchNorm2d(128, eps=1e-05, momentum=0.1, affine=True, track_running_stats=True)\n",
              "            (relu2): ReLU(inplace=True)\n",
              "            (conv2): Conv2d(128, 32, kernel_size=(3, 3), stride=(1, 1), padding=(1, 1), bias=False)\n",
              "          )\n",
              "          (denselayer13): _DenseLayer(\n",
              "            (norm1): BatchNorm2d(896, eps=1e-05, momentum=0.1, affine=True, track_running_stats=True)\n",
              "            (relu1): ReLU(inplace=True)\n",
              "            (conv1): Conv2d(896, 128, kernel_size=(1, 1), stride=(1, 1), bias=False)\n",
              "            (norm2): BatchNorm2d(128, eps=1e-05, momentum=0.1, affine=True, track_running_stats=True)\n",
              "            (relu2): ReLU(inplace=True)\n",
              "            (conv2): Conv2d(128, 32, kernel_size=(3, 3), stride=(1, 1), padding=(1, 1), bias=False)\n",
              "          )\n",
              "          (denselayer14): _DenseLayer(\n",
              "            (norm1): BatchNorm2d(928, eps=1e-05, momentum=0.1, affine=True, track_running_stats=True)\n",
              "            (relu1): ReLU(inplace=True)\n",
              "            (conv1): Conv2d(928, 128, kernel_size=(1, 1), stride=(1, 1), bias=False)\n",
              "            (norm2): BatchNorm2d(128, eps=1e-05, momentum=0.1, affine=True, track_running_stats=True)\n",
              "            (relu2): ReLU(inplace=True)\n",
              "            (conv2): Conv2d(128, 32, kernel_size=(3, 3), stride=(1, 1), padding=(1, 1), bias=False)\n",
              "          )\n",
              "          (denselayer15): _DenseLayer(\n",
              "            (norm1): BatchNorm2d(960, eps=1e-05, momentum=0.1, affine=True, track_running_stats=True)\n",
              "            (relu1): ReLU(inplace=True)\n",
              "            (conv1): Conv2d(960, 128, kernel_size=(1, 1), stride=(1, 1), bias=False)\n",
              "            (norm2): BatchNorm2d(128, eps=1e-05, momentum=0.1, affine=True, track_running_stats=True)\n",
              "            (relu2): ReLU(inplace=True)\n",
              "            (conv2): Conv2d(128, 32, kernel_size=(3, 3), stride=(1, 1), padding=(1, 1), bias=False)\n",
              "          )\n",
              "          (denselayer16): _DenseLayer(\n",
              "            (norm1): BatchNorm2d(992, eps=1e-05, momentum=0.1, affine=True, track_running_stats=True)\n",
              "            (relu1): ReLU(inplace=True)\n",
              "            (conv1): Conv2d(992, 128, kernel_size=(1, 1), stride=(1, 1), bias=False)\n",
              "            (norm2): BatchNorm2d(128, eps=1e-05, momentum=0.1, affine=True, track_running_stats=True)\n",
              "            (relu2): ReLU(inplace=True)\n",
              "            (conv2): Conv2d(128, 32, kernel_size=(3, 3), stride=(1, 1), padding=(1, 1), bias=False)\n",
              "          )\n",
              "        )\n",
              "        (norm5): BatchNorm2d(1024, eps=1e-05, momentum=0.1, affine=True, track_running_stats=True)\n",
              "      )\n",
              "      (classifier): Sequential(\n",
              "        (0): Linear(in_features=1024, out_features=2, bias=True)\n",
              "        (1): Sigmoid()\n",
              "      )\n",
              "    )\n",
              "  )\n",
              ")"
            ]
          },
          "metadata": {},
          "execution_count": 53
        }
      ]
    },
    {
      "cell_type": "markdown",
      "source": [
        "# Test and ROC Curves"
      ],
      "metadata": {
        "id": "BPUAtWlUKQWD"
      }
    },
    {
      "cell_type": "code",
      "source": [
        "outGT, outPRED = CheXpertTrainer.test(model, dataLoaderTest, nnClassCount, None, class_names)"
      ],
      "metadata": {
        "execution": {
          "iopub.status.busy": "2023-07-05T10:02:23.645704Z",
          "iopub.execute_input": "2023-07-05T10:02:23.646084Z",
          "iopub.status.idle": "2023-07-05T10:02:35.90613Z",
          "shell.execute_reply.started": "2023-07-05T10:02:23.646053Z",
          "shell.execute_reply": "2023-07-05T10:02:35.904967Z"
        },
        "trusted": true,
        "id": "MhYq7yqyKQWD",
        "outputId": "accf56ad-2ffc-4238-d59f-40a968d9c4d9",
        "colab": {
          "base_uri": "https://localhost:8080/"
        }
      },
      "execution_count": 54,
      "outputs": [
        {
          "output_type": "stream",
          "name": "stdout",
          "text": [
            "AUROC mean  0.9553420889164966\n",
            "No Finding   0.9554086431804065\n",
            "Pleural Effusion   0.9552755346525867\n"
          ]
        }
      ]
    },
    {
      "cell_type": "code",
      "source": [
        "cudnn.benchmark = True\n",
        "\n",
        "\n",
        "if use_gpu:\n",
        "    outGT = torch.FloatTensor().cuda()\n",
        "    outPRED = torch.FloatTensor().cuda()\n",
        "else:\n",
        "    outGT = torch.FloatTensor()\n",
        "    outPRED = torch.FloatTensor()\n",
        "\n",
        "model.eval()\n",
        "\n",
        "with torch.no_grad():\n",
        "    for i, (input, target) in enumerate(dataLoaderTest):\n",
        "\n",
        "        target = target.cuda()\n",
        "        outGT = torch.cat((outGT, target), 0).cuda()\n",
        "\n",
        "        bs, c, h, w = input.size()\n",
        "        varInput = input.view(-1, c, h, w)\n",
        "\n",
        "        out = model(varInput)\n",
        "        outPRED = torch.cat((outPRED, out), 0)"
      ],
      "metadata": {
        "execution": {
          "iopub.status.busy": "2023-07-05T10:15:05.561338Z",
          "iopub.execute_input": "2023-07-05T10:15:05.562502Z",
          "iopub.status.idle": "2023-07-05T10:15:18.459665Z",
          "shell.execute_reply.started": "2023-07-05T10:15:05.56245Z",
          "shell.execute_reply": "2023-07-05T10:15:18.458324Z"
        },
        "trusted": true,
        "id": "oPnjsoPDKQWE"
      },
      "execution_count": 55,
      "outputs": []
    },
    {
      "cell_type": "code",
      "source": [
        "for (x,y) in outPRED:\n",
        "    if x > 0.5:\n",
        "        x"
      ],
      "metadata": {
        "execution": {
          "iopub.status.busy": "2023-07-05T10:15:50.408566Z",
          "iopub.execute_input": "2023-07-05T10:15:50.408933Z",
          "iopub.status.idle": "2023-07-05T10:15:50.417476Z",
          "shell.execute_reply.started": "2023-07-05T10:15:50.408904Z",
          "shell.execute_reply": "2023-07-05T10:15:50.416329Z"
        },
        "trusted": true,
        "id": "CISjvuYQKQWE"
      },
      "execution_count": 56,
      "outputs": []
    },
    {
      "cell_type": "code",
      "source": [
        "0.9464+0.0544"
      ],
      "metadata": {
        "execution": {
          "iopub.status.busy": "2023-07-05T10:17:01.422494Z",
          "iopub.execute_input": "2023-07-05T10:17:01.422877Z",
          "iopub.status.idle": "2023-07-05T10:17:01.42941Z",
          "shell.execute_reply.started": "2023-07-05T10:17:01.422849Z",
          "shell.execute_reply": "2023-07-05T10:17:01.428437Z"
        },
        "trusted": true,
        "id": "mclCGGVZKQWE",
        "outputId": "cd471cf9-f05a-4ebb-a7ad-1e5b53fa2711",
        "colab": {
          "base_uri": "https://localhost:8080/"
        }
      },
      "execution_count": 57,
      "outputs": [
        {
          "output_type": "execute_result",
          "data": {
            "text/plain": [
              "1.0008"
            ]
          },
          "metadata": {},
          "execution_count": 57
        }
      ]
    },
    {
      "cell_type": "code",
      "source": [
        "outGT.shape"
      ],
      "metadata": {
        "execution": {
          "iopub.status.busy": "2023-07-05T10:15:29.108156Z",
          "iopub.execute_input": "2023-07-05T10:15:29.109259Z",
          "iopub.status.idle": "2023-07-05T10:15:29.116294Z",
          "shell.execute_reply.started": "2023-07-05T10:15:29.109216Z",
          "shell.execute_reply": "2023-07-05T10:15:29.115347Z"
        },
        "trusted": true,
        "id": "FmfQML2oKQWE",
        "outputId": "e25b4e10-9330-4ce7-bf6b-90b05928a1f6",
        "colab": {
          "base_uri": "https://localhost:8080/"
        }
      },
      "execution_count": 58,
      "outputs": [
        {
          "output_type": "execute_result",
          "data": {
            "text/plain": [
              "torch.Size([500, 2])"
            ]
          },
          "metadata": {},
          "execution_count": 58
        }
      ]
    },
    {
      "cell_type": "code",
      "source": [
        "for i in range(nnClassCount):\n",
        "    fpr, tpr, threshold = metrics.roc_curve(outGT.cpu()[:,i], outPRED.cpu()[:,i])\n",
        "    roc_auc = metrics.auc(fpr, tpr)\n",
        "    f = plt.subplot(2, 7, i+1)\n",
        "\n",
        "    plt.title('ROC for: ' + class_names[i])\n",
        "    plt.plot(fpr, tpr, label = 'U-ones: AUC = %0.2f' % roc_auc)\n",
        "\n",
        "    plt.legend(loc = 'lower right')\n",
        "    plt.plot([0, 1], [0, 1],'r--')\n",
        "    plt.xlim([0, 1])\n",
        "    plt.ylim([0, 1])\n",
        "    plt.ylabel('True Positive Rate')\n",
        "    plt.xlabel('False Positive Rate')\n",
        "\n",
        "fig_size = plt.rcParams[\"figure.figsize\"]\n",
        "plt.rcParams[\"figure.figsize\"] = (30, 10)\n",
        "\n",
        "plt.savefig(\"ROC.png\", dpi = 1000)\n",
        "plt.show()"
      ],
      "metadata": {
        "execution": {
          "iopub.status.busy": "2023-07-03T04:16:28.169694Z",
          "iopub.execute_input": "2023-07-03T04:16:28.170434Z",
          "iopub.status.idle": "2023-07-03T04:16:34.600323Z",
          "shell.execute_reply.started": "2023-07-03T04:16:28.17039Z",
          "shell.execute_reply": "2023-07-03T04:16:34.599242Z"
        },
        "trusted": true,
        "id": "R0oZlnT0KQWF",
        "outputId": "90fcde6d-32ff-4387-a64c-cbc493f9c02b",
        "colab": {
          "base_uri": "https://localhost:8080/",
          "height": 270
        }
      },
      "execution_count": 59,
      "outputs": [
        {
          "output_type": "display_data",
          "data": {
            "text/plain": [
              "<Figure size 640x480 with 2 Axes>"
            ],
            "image/png": "[encoded data removed]"
          },
          "metadata": {}
        }
      ]
    },
    {
      "cell_type": "markdown",
      "source": [
        "# Computational Stats"
      ],
      "metadata": {
        "id": "pAQIEm_SKQWF"
      }
    },
    {
      "cell_type": "code",
      "source": [
        "# Took about 20 min per client(3 epoch) for a single round.\n",
        "# Took about 60 min per clinet(3 epoch) for whole training."
      ],
      "metadata": {
        "id": "EseGMjrWKQWF"
      },
      "execution_count": null,
      "outputs": []
    }
  ]
}