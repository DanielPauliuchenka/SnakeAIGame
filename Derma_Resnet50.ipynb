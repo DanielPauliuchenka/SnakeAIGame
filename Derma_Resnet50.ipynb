{
  "metadata": {
    "kernelspec": {
      "display_name": "Python 3",
      "name": "python3"
    },
    "language_info": {
      "name": "python",
      "version": "3.10.13",
      "mimetype": "text/x-python",
      "codemirror_mode": {
        "name": "ipython",
        "version": 3
      },
      "pygments_lexer": "ipython3",
      "nbconvert_exporter": "python",
      "file_extension": ".py"
    },
    "kaggle": {
      "accelerator": "nvidiaTeslaT4",
      "dataSources": [
        {
          "sourceId": 104884,
          "sourceType": "datasetVersion",
          "datasetId": 54339
        }
      ],
      "dockerImageVersionId": 30684,
      "isInternetEnabled": true,
      "language": "python",
      "sourceType": "notebook",
      "isGpuEnabled": true
    },
    "colab": {
      "provenance": [],
      "gpuType": "T4",
      "include_colab_link": true
    },
    "accelerator": "GPU"
  },
  "nbformat_minor": 0,
  "nbformat": 4,
  "cells": [
    {
      "cell_type": "markdown",
      "metadata": {
        "id": "view-in-github",
        "colab_type": "text"
      },
      "source": [
        "<a href=\"https://colab.research.google.com/github/DanielPauliuchenka/SnakeAIGame/blob/main/Derma_Resnet50.ipynb\" target=\"_parent\"><img src=\"https://colab.research.google.com/assets/colab-badge.svg\" alt=\"Open In Colab\"/></a>"
      ]
    },
    {
      "source": [
        "# IMPORTANT: RUN THIS CELL IN ORDER TO IMPORT YOUR KAGGLE DATA SOURCES,\n",
        "# THEN FEEL FREE TO DELETE THIS CELL.\n",
        "# NOTE: THIS NOTEBOOK ENVIRONMENT DIFFERS FROM KAGGLE'S PYTHON\n",
        "# ENVIRONMENT SO THERE MAY BE MISSING LIBRARIES USED BY YOUR\n",
        "# NOTEBOOK.\n",
        "import kagglehub\n",
        "kmader_skin_cancer_mnist_ham10000_path = kagglehub.dataset_download('kmader/skin-cancer-mnist-ham10000')\n",
        "\n",
        "print('Data source import complete.')\n"
      ],
      "metadata": {
        "id": "AUuHfx5zbJY5",
        "outputId": "ef602d1c-f6c3-4d74-f5aa-55b60b970bba",
        "colab": {
          "base_uri": "https://localhost:8080/"
        }
      },
      "cell_type": "code",
      "outputs": [
        {
          "output_type": "stream",
          "name": "stdout",
          "text": [
            "Data source import complete.\n"
          ]
        }
      ],
      "execution_count": null
    },
    {
      "cell_type": "code",
      "source": [
        "!pip install torchinfo\n",
        "\n",
        "import pandas as pd\n",
        "import numpy as np\n",
        "import torch\n",
        "import os\n",
        "import shutil\n",
        "import matplotlib.pyplot as plt\n",
        "import torch.nn as nn\n",
        "import torch.nn.functional as F\n",
        "import torch.optim as optim\n",
        "import torchvision.models as models\n",
        "import seaborn as sns\n",
        "\n",
        "from sklearn.metrics import classification_report, confusion_matrix\n",
        "from torch.utils.data import Dataset, WeightedRandomSampler, DataLoader, Subset\n",
        "from transformers import ConvNextForImageClassification\n",
        "from torchvision.transforms.functional import to_pil_image\n",
        "from torchvision import transforms\n",
        "from torchinfo import summary\n",
        "from PIL import Image"
      ],
      "metadata": {
        "_uuid": "8f2839f25d086af736a60e9eeb907d3b93b6e0e5",
        "_cell_guid": "b1076dfc-b9ad-4769-8c92-a6c4dae69d19",
        "execution": {
          "iopub.status.busy": "2024-04-14T03:31:00.343401Z",
          "iopub.execute_input": "2024-04-14T03:31:00.343744Z",
          "iopub.status.idle": "2024-04-14T03:31:24.170657Z",
          "shell.execute_reply.started": "2024-04-14T03:31:00.343716Z",
          "shell.execute_reply": "2024-04-14T03:31:24.169663Z"
        },
        "trusted": true,
        "id": "TIm_QVCxbJY7",
        "outputId": "2a423bfd-8f21-40b6-d937-736d0f44daad",
        "colab": {
          "base_uri": "https://localhost:8080/"
        }
      },
      "execution_count": null,
      "outputs": [
        {
          "output_type": "stream",
          "name": "stdout",
          "text": [
            "Collecting torchinfo\n",
            "  Downloading torchinfo-1.8.0-py3-none-any.whl.metadata (21 kB)\n",
            "Downloading torchinfo-1.8.0-py3-none-any.whl (23 kB)\n",
            "Installing collected packages: torchinfo\n",
            "Successfully installed torchinfo-1.8.0\n"
          ]
        }
      ]
    },
    {
      "cell_type": "code",
      "source": [
        "# Source directory\n",
        "import shutil\n",
        "\n",
        "source_dir = \"/kaggle/input/skin-cancer-mnist-ham10000\"\n",
        "\n",
        "# Destination directory\n",
        "destination_dir = \"/kaggle/working/Dataset\"\n",
        "\n",
        "shutil.copytree(source_dir, destination_dir)"
      ],
      "metadata": {
        "execution": {
          "iopub.status.busy": "2024-04-14T03:31:24.17226Z",
          "iopub.execute_input": "2024-04-14T03:31:24.172728Z",
          "iopub.status.idle": "2024-04-14T03:35:57.747736Z",
          "shell.execute_reply.started": "2024-04-14T03:31:24.172702Z",
          "shell.execute_reply": "2024-04-14T03:35:57.746766Z"
        },
        "trusted": true,
        "id": "s7KqTisvbJY8",
        "outputId": "84e0f560-990a-4e77-bd03-237a746e1886",
        "colab": {
          "base_uri": "https://localhost:8080/",
          "height": 35
        }
      },
      "execution_count": null,
      "outputs": [
        {
          "output_type": "execute_result",
          "data": {
            "text/plain": [
              "'/kaggle/working/Dataset'"
            ],
            "application/vnd.google.colaboratory.intrinsic+json": {
              "type": "string"
            }
          },
          "metadata": {},
          "execution_count": 3
        }
      ]
    },
    {
      "cell_type": "code",
      "source": [
        "# Define a function to combine images in different folders into 1 folders\n",
        "def combine_folders(src1, src2, dest):\n",
        "\n",
        "    copied_files = []  # List to store names of successfully copied files\n",
        "\n",
        "    # Create folder when destination folder not exist, exit function if destination folder contains contents from the source folder\n",
        "    if not os.path.exists(dest):\n",
        "      print(f\"Destination folder {dest} created...\")\n",
        "      os.makedirs(dest)\n",
        "\n",
        "    else:\n",
        "      # Recreate folder when destination folder do not have all the contents in source folders to avoid overlapping contents\n",
        "      if len(os.listdir(dest)) == (len(os.listdir(src1)) + len(os.listdir(src2))):\n",
        "        print(\"Content in source 1 folder and source 2 folder have been copied to destination folder\")\n",
        "\n",
        "        for filename in os.listdir(dest):\n",
        "            copied_files.append(filename)\n",
        "\n",
        "        return copied_files\n",
        "\n",
        "      else:\n",
        "        shutil.rmtree(dest)\n",
        "        os.makedirs(dest)\n",
        "\n",
        "\n",
        "    print(f\"Copying images in {src1} into {dest}...\")\n",
        "\n",
        "    # Loop through all content in source folder 1 and copy into destination folder, if source 1 folder exist\n",
        "    if os.path.exists(src1):\n",
        "      print('Source 1 folder consist of ', len(os.listdir(src1)), \" elements\")\n",
        "\n",
        "      for images in os.listdir(src1):\n",
        "\n",
        "        # Define the source path and the destination path for each images\n",
        "        src_path = os.path.join(src1, images)\n",
        "        dest_path = os.path.join(dest, images)\n",
        "\n",
        "        # Copy to the destination folder\n",
        "        shutil.copy(src_path, dest_path)\n",
        "        copied_files.append(images)\n",
        "\n",
        "      print(f\"All images in {src1} have been copied into {dest}...\")\n",
        "\n",
        "    else:\n",
        "      print(f\"{src1} not found\")\n",
        "\n",
        "\n",
        "    print(f\"Copying images in {src2} into {dest}...\")\n",
        "\n",
        "    # loop through all content in source folder 2 and copy into destination folder, if source 2 folder exist\n",
        "    if os.path.exists(src2):\n",
        "      print('Source 2 folder consist of ', len(os.listdir(src2)), \" elements\")\n",
        "\n",
        "      for images in os.listdir(src2):\n",
        "\n",
        "        # Define the source path and the destination path for each images\n",
        "        src_path = os.path.join(src2, images)\n",
        "        dest_path = os.path.join(dest, images)\n",
        "\n",
        "        # Copy to the destination folder\n",
        "        shutil.copy(src_path, dest_path)\n",
        "        copied_files.append(images)\n",
        "\n",
        "      print(f\"All images in {src2} have been copied into {dest}...\")\n",
        "\n",
        "    else:\n",
        "      print(f\"{src2} not found\")\n",
        "\n",
        "    print('Destination folder consist of ', len(os.listdir(dest)), \" elements\")\n",
        "\n",
        "    return copied_files"
      ],
      "metadata": {
        "execution": {
          "iopub.status.busy": "2024-04-14T03:35:57.749822Z",
          "iopub.execute_input": "2024-04-14T03:35:57.750183Z",
          "iopub.status.idle": "2024-04-14T03:35:57.762292Z",
          "shell.execute_reply.started": "2024-04-14T03:35:57.750149Z",
          "shell.execute_reply": "2024-04-14T03:35:57.761374Z"
        },
        "trusted": true,
        "id": "RjpeGFbebJY8"
      },
      "execution_count": null,
      "outputs": []
    },
    {
      "cell_type": "code",
      "source": [
        "# Define source paths to combined and destination path to store\n",
        "src1 = \"/kaggle/working/Dataset/HAM10000_images_part_1/\"\n",
        "src2 = \"/kaggle/working/Dataset/HAM10000_images_part_2/\"\n",
        "dest = \"/kaggle/working/Dataset/HAM10000/\"\n",
        "copied_files = combine_folders(src1, src2, dest)"
      ],
      "metadata": {
        "execution": {
          "iopub.status.busy": "2024-04-14T03:35:57.763582Z",
          "iopub.execute_input": "2024-04-14T03:35:57.763937Z",
          "iopub.status.idle": "2024-04-14T03:36:01.21301Z",
          "shell.execute_reply.started": "2024-04-14T03:35:57.763907Z",
          "shell.execute_reply": "2024-04-14T03:36:01.21053Z"
        },
        "trusted": true,
        "id": "MotD_aBHbJY9",
        "outputId": "2b82825a-d268-4e2f-8442-2db4b38dabb4",
        "colab": {
          "base_uri": "https://localhost:8080/"
        }
      },
      "execution_count": null,
      "outputs": [
        {
          "output_type": "stream",
          "name": "stdout",
          "text": [
            "Destination folder /kaggle/working/Dataset/HAM10000/ created...\n",
            "Copying images in /kaggle/working/Dataset/HAM10000_images_part_1/ into /kaggle/working/Dataset/HAM10000/...\n",
            "Source 1 folder consist of  5000  elements\n",
            "All images in /kaggle/working/Dataset/HAM10000_images_part_1/ have been copied into /kaggle/working/Dataset/HAM10000/...\n",
            "Copying images in /kaggle/working/Dataset/HAM10000_images_part_2/ into /kaggle/working/Dataset/HAM10000/...\n",
            "Source 2 folder consist of  5015  elements\n",
            "All images in /kaggle/working/Dataset/HAM10000_images_part_2/ have been copied into /kaggle/working/Dataset/HAM10000/...\n",
            "Destination folder consist of  10015  elements\n"
          ]
        }
      ]
    },
    {
      "cell_type": "code",
      "source": [
        "train_file = \"/kaggle/working/Dataset/HAM10000_metadata.csv\"\n",
        "skin_train_df = pd.read_csv(train_file)\n",
        "\n",
        "skin_train_df['image_id_with_extension'] = skin_train_df['image_id'] + '.jpg'\n",
        "skin_train_df = skin_train_df[skin_train_df['image_id_with_extension'].isin(copied_files)]\n",
        "skin_train_df = skin_train_df.drop(columns=['image_id_with_extension'])\n",
        "\n",
        "skin_train_df.head(5)"
      ],
      "metadata": {
        "execution": {
          "iopub.status.busy": "2024-04-14T03:36:01.21762Z",
          "iopub.execute_input": "2024-04-14T03:36:01.218414Z",
          "iopub.status.idle": "2024-04-14T03:36:01.299898Z",
          "shell.execute_reply.started": "2024-04-14T03:36:01.218371Z",
          "shell.execute_reply": "2024-04-14T03:36:01.298802Z"
        },
        "trusted": true,
        "id": "OAdR25kPbJY9",
        "outputId": "4b9d73d4-4085-46e9-9d36-e2e3b3e06229",
        "colab": {
          "base_uri": "https://localhost:8080/",
          "height": 206
        }
      },
      "execution_count": null,
      "outputs": [
        {
          "output_type": "execute_result",
          "data": {
            "text/plain": [
              "     lesion_id      image_id   dx dx_type   age   sex localization\n",
              "0  HAM_0000118  ISIC_0027419  bkl   histo  80.0  male        scalp\n",
              "1  HAM_0000118  ISIC_0025030  bkl   histo  80.0  male        scalp\n",
              "2  HAM_0002730  ISIC_0026769  bkl   histo  80.0  male        scalp\n",
              "3  HAM_0002730  ISIC_0025661  bkl   histo  80.0  male        scalp\n",
              "4  HAM_0001466  ISIC_0031633  bkl   histo  75.0  male          ear"
            ],
            "text/html": [
              "\n",
              "  <div id=\"df-5bf8ff0f-5118-447d-96cc-78995c82b6bd\" class=\"colab-df-container\">\n",
              "    <div>\n",
              "<style scoped>\n",
              "    .dataframe tbody tr th:only-of-type {\n",
              "        vertical-align: middle;\n",
              "    }\n",
              "\n",
              "    .dataframe tbody tr th {\n",
              "        vertical-align: top;\n",
              "    }\n",
              "\n",
              "    .dataframe thead th {\n",
              "        text-align: right;\n",
              "    }\n",
              "</style>\n",
              "<table border=\"1\" class=\"dataframe\">\n",
              "  <thead>\n",
              "    <tr style=\"text-align: right;\">\n",
              "      <th></th>\n",
              "      <th>lesion_id</th>\n",
              "      <th>image_id</th>\n",
              "      <th>dx</th>\n",
              "      <th>dx_type</th>\n",
              "      <th>age</th>\n",
              "      <th>sex</th>\n",
              "      <th>localization</th>\n",
              "    </tr>\n",
              "  </thead>\n",
              "  <tbody>\n",
              "    <tr>\n",
              "      <th>0</th>\n",
              "      <td>HAM_0000118</td>\n",
              "      <td>ISIC_0027419</td>\n",
              "      <td>bkl</td>\n",
              "      <td>histo</td>\n",
              "      <td>80.0</td>\n",
              "      <td>male</td>\n",
              "      <td>scalp</td>\n",
              "    </tr>\n",
              "    <tr>\n",
              "      <th>1</th>\n",
              "      <td>HAM_0000118</td>\n",
              "      <td>ISIC_0025030</td>\n",
              "      <td>bkl</td>\n",
              "      <td>histo</td>\n",
              "      <td>80.0</td>\n",
              "      <td>male</td>\n",
              "      <td>scalp</td>\n",
              "    </tr>\n",
              "    <tr>\n",
              "      <th>2</th>\n",
              "      <td>HAM_0002730</td>\n",
              "      <td>ISIC_0026769</td>\n",
              "      <td>bkl</td>\n",
              "      <td>histo</td>\n",
              "      <td>80.0</td>\n",
              "      <td>male</td>\n",
              "      <td>scalp</td>\n",
              "    </tr>\n",
              "    <tr>\n",
              "      <th>3</th>\n",
              "      <td>HAM_0002730</td>\n",
              "      <td>ISIC_0025661</td>\n",
              "      <td>bkl</td>\n",
              "      <td>histo</td>\n",
              "      <td>80.0</td>\n",
              "      <td>male</td>\n",
              "      <td>scalp</td>\n",
              "    </tr>\n",
              "    <tr>\n",
              "      <th>4</th>\n",
              "      <td>HAM_0001466</td>\n",
              "      <td>ISIC_0031633</td>\n",
              "      <td>bkl</td>\n",
              "      <td>histo</td>\n",
              "      <td>75.0</td>\n",
              "      <td>male</td>\n",
              "      <td>ear</td>\n",
              "    </tr>\n",
              "  </tbody>\n",
              "</table>\n",
              "</div>\n",
              "    <div class=\"colab-df-buttons\">\n",
              "\n",
              "  <div class=\"colab-df-container\">\n",
              "    <button class=\"colab-df-convert\" onclick=\"convertToInteractive('df-5bf8ff0f-5118-447d-96cc-78995c82b6bd')\"\n",
              "            title=\"Convert this dataframe to an interactive table.\"\n",
              "            style=\"display:none;\">\n",
              "\n",
              "  <svg xmlns=\"http://www.w3.org/2000/svg\" height=\"24px\" viewBox=\"0 -960 960 960\">\n",
              "    <path d=\"M120-120v-720h720v720H120Zm60-500h600v-160H180v160Zm220 220h160v-160H400v160Zm0 220h160v-160H400v160ZM180-400h160v-160H180v160Zm440 0h160v-160H620v160ZM180-180h160v-160H180v160Zm440 0h160v-160H620v160Z\"/>\n",
              "  </svg>\n",
              "    </button>\n",
              "\n",
              "  <style>\n",
              "    .colab-df-container {\n",
              "      display:flex;\n",
              "      gap: 12px;\n",
              "    }\n",
              "\n",
              "    .colab-df-convert {\n",
              "      background-color: #E8F0FE;\n",
              "      border: none;\n",
              "      border-radius: 50%;\n",
              "      cursor: pointer;\n",
              "      display: none;\n",
              "      fill: #1967D2;\n",
              "      height: 32px;\n",
              "      padding: 0 0 0 0;\n",
              "      width: 32px;\n",
              "    }\n",
              "\n",
              "    .colab-df-convert:hover {\n",
              "      background-color: #E2EBFA;\n",
              "      box-shadow: 0px 1px 2px rgba(60, 64, 67, 0.3), 0px 1px 3px 1px rgba(60, 64, 67, 0.15);\n",
              "      fill: #174EA6;\n",
              "    }\n",
              "\n",
              "    .colab-df-buttons div {\n",
              "      margin-bottom: 4px;\n",
              "    }\n",
              "\n",
              "    [theme=dark] .colab-df-convert {\n",
              "      background-color: #3B4455;\n",
              "      fill: #D2E3FC;\n",
              "    }\n",
              "\n",
              "    [theme=dark] .colab-df-convert:hover {\n",
              "      background-color: #434B5C;\n",
              "      box-shadow: 0px 1px 3px 1px rgba(0, 0, 0, 0.15);\n",
              "      filter: drop-shadow(0px 1px 2px rgba(0, 0, 0, 0.3));\n",
              "      fill: #FFFFFF;\n",
              "    }\n",
              "  </style>\n",
              "\n",
              "    <script>\n",
              "      const buttonEl =\n",
              "        document.querySelector('#df-5bf8ff0f-5118-447d-96cc-78995c82b6bd button.colab-df-convert');\n",
              "      buttonEl.style.display =\n",
              "        google.colab.kernel.accessAllowed ? 'block' : 'none';\n",
              "\n",
              "      async function convertToInteractive(key) {\n",
              "        const element = document.querySelector('#df-5bf8ff0f-5118-447d-96cc-78995c82b6bd');\n",
              "        const dataTable =\n",
              "          await google.colab.kernel.invokeFunction('convertToInteractive',\n",
              "                                                    [key], {});\n",
              "        if (!dataTable) return;\n",
              "\n",
              "        const docLinkHtml = 'Like what you see? Visit the ' +\n",
              "          '<a target=\"_blank\" href=https://colab.research.google.com/notebooks/data_table.ipynb>data table notebook</a>'\n",
              "          + ' to learn more about interactive tables.';\n",
              "        element.innerHTML = '';\n",
              "        dataTable['output_type'] = 'display_data';\n",
              "        await google.colab.output.renderOutput(dataTable, element);\n",
              "        const docLink = document.createElement('div');\n",
              "        docLink.innerHTML = docLinkHtml;\n",
              "        element.appendChild(docLink);\n",
              "      }\n",
              "    </script>\n",
              "  </div>\n",
              "\n",
              "\n",
              "    <div id=\"df-aed4282c-aa9d-4cc7-a5d8-76f64779cd60\">\n",
              "      <button class=\"colab-df-quickchart\" onclick=\"quickchart('df-aed4282c-aa9d-4cc7-a5d8-76f64779cd60')\"\n",
              "                title=\"Suggest charts\"\n",
              "                style=\"display:none;\">\n",
              "\n",
              "<svg xmlns=\"http://www.w3.org/2000/svg\" height=\"24px\"viewBox=\"0 0 24 24\"\n",
              "     width=\"24px\">\n",
              "    <g>\n",
              "        <path d=\"M19 3H5c-1.1 0-2 .9-2 2v14c0 1.1.9 2 2 2h14c1.1 0 2-.9 2-2V5c0-1.1-.9-2-2-2zM9 17H7v-7h2v7zm4 0h-2V7h2v10zm4 0h-2v-4h2v4z\"/>\n",
              "    </g>\n",
              "</svg>\n",
              "      </button>\n",
              "\n",
              "<style>\n",
              "  .colab-df-quickchart {\n",
              "      --bg-color: #E8F0FE;\n",
              "      --fill-color: #1967D2;\n",
              "      --hover-bg-color: #E2EBFA;\n",
              "      --hover-fill-color: #174EA6;\n",
              "      --disabled-fill-color: #AAA;\n",
              "      --disabled-bg-color: #DDD;\n",
              "  }\n",
              "\n",
              "  [theme=dark] .colab-df-quickchart {\n",
              "      --bg-color: #3B4455;\n",
              "      --fill-color: #D2E3FC;\n",
              "      --hover-bg-color: #434B5C;\n",
              "      --hover-fill-color: #FFFFFF;\n",
              "      --disabled-bg-color: #3B4455;\n",
              "      --disabled-fill-color: #666;\n",
              "  }\n",
              "\n",
              "  .colab-df-quickchart {\n",
              "    background-color: var(--bg-color);\n",
              "    border: none;\n",
              "    border-radius: 50%;\n",
              "    cursor: pointer;\n",
              "    display: none;\n",
              "    fill: var(--fill-color);\n",
              "    height: 32px;\n",
              "    padding: 0;\n",
              "    width: 32px;\n",
              "  }\n",
              "\n",
              "  .colab-df-quickchart:hover {\n",
              "    background-color: var(--hover-bg-color);\n",
              "    box-shadow: 0 1px 2px rgba(60, 64, 67, 0.3), 0 1px 3px 1px rgba(60, 64, 67, 0.15);\n",
              "    fill: var(--button-hover-fill-color);\n",
              "  }\n",
              "\n",
              "  .colab-df-quickchart-complete:disabled,\n",
              "  .colab-df-quickchart-complete:disabled:hover {\n",
              "    background-color: var(--disabled-bg-color);\n",
              "    fill: var(--disabled-fill-color);\n",
              "    box-shadow: none;\n",
              "  }\n",
              "\n",
              "  .colab-df-spinner {\n",
              "    border: 2px solid var(--fill-color);\n",
              "    border-color: transparent;\n",
              "    border-bottom-color: var(--fill-color);\n",
              "    animation:\n",
              "      spin 1s steps(1) infinite;\n",
              "  }\n",
              "\n",
              "  @keyframes spin {\n",
              "    0% {\n",
              "      border-color: transparent;\n",
              "      border-bottom-color: var(--fill-color);\n",
              "      border-left-color: var(--fill-color);\n",
              "    }\n",
              "    20% {\n",
              "      border-color: transparent;\n",
              "      border-left-color: var(--fill-color);\n",
              "      border-top-color: var(--fill-color);\n",
              "    }\n",
              "    30% {\n",
              "      border-color: transparent;\n",
              "      border-left-color: var(--fill-color);\n",
              "      border-top-color: var(--fill-color);\n",
              "      border-right-color: var(--fill-color);\n",
              "    }\n",
              "    40% {\n",
              "      border-color: transparent;\n",
              "      border-right-color: var(--fill-color);\n",
              "      border-top-color: var(--fill-color);\n",
              "    }\n",
              "    60% {\n",
              "      border-color: transparent;\n",
              "      border-right-color: var(--fill-color);\n",
              "    }\n",
              "    80% {\n",
              "      border-color: transparent;\n",
              "      border-right-color: var(--fill-color);\n",
              "      border-bottom-color: var(--fill-color);\n",
              "    }\n",
              "    90% {\n",
              "      border-color: transparent;\n",
              "      border-bottom-color: var(--fill-color);\n",
              "    }\n",
              "  }\n",
              "</style>\n",
              "\n",
              "      <script>\n",
              "        async function quickchart(key) {\n",
              "          const quickchartButtonEl =\n",
              "            document.querySelector('#' + key + ' button');\n",
              "          quickchartButtonEl.disabled = true;  // To prevent multiple clicks.\n",
              "          quickchartButtonEl.classList.add('colab-df-spinner');\n",
              "          try {\n",
              "            const charts = await google.colab.kernel.invokeFunction(\n",
              "                'suggestCharts', [key], {});\n",
              "          } catch (error) {\n",
              "            console.error('Error during call to suggestCharts:', error);\n",
              "          }\n",
              "          quickchartButtonEl.classList.remove('colab-df-spinner');\n",
              "          quickchartButtonEl.classList.add('colab-df-quickchart-complete');\n",
              "        }\n",
              "        (() => {\n",
              "          let quickchartButtonEl =\n",
              "            document.querySelector('#df-aed4282c-aa9d-4cc7-a5d8-76f64779cd60 button');\n",
              "          quickchartButtonEl.style.display =\n",
              "            google.colab.kernel.accessAllowed ? 'block' : 'none';\n",
              "        })();\n",
              "      </script>\n",
              "    </div>\n",
              "\n",
              "    </div>\n",
              "  </div>\n"
            ],
            "application/vnd.google.colaboratory.intrinsic+json": {
              "type": "dataframe",
              "variable_name": "skin_train_df",
              "summary": "{\n  \"name\": \"skin_train_df\",\n  \"rows\": 10015,\n  \"fields\": [\n    {\n      \"column\": \"lesion_id\",\n      \"properties\": {\n        \"dtype\": \"string\",\n        \"num_unique_values\": 7470,\n        \"samples\": [\n          \"HAM_0002743\",\n          \"HAM_0004142\",\n          \"HAM_0003658\"\n        ],\n        \"semantic_type\": \"\",\n        \"description\": \"\"\n      }\n    },\n    {\n      \"column\": \"image_id\",\n      \"properties\": {\n        \"dtype\": \"string\",\n        \"num_unique_values\": 10015,\n        \"samples\": [\n          \"ISIC_0033272\",\n          \"ISIC_0031923\",\n          \"ISIC_0026652\"\n        ],\n        \"semantic_type\": \"\",\n        \"description\": \"\"\n      }\n    },\n    {\n      \"column\": \"dx\",\n      \"properties\": {\n        \"dtype\": \"category\",\n        \"num_unique_values\": 7,\n        \"samples\": [\n          \"bkl\",\n          \"nv\",\n          \"bcc\"\n        ],\n        \"semantic_type\": \"\",\n        \"description\": \"\"\n      }\n    },\n    {\n      \"column\": \"dx_type\",\n      \"properties\": {\n        \"dtype\": \"category\",\n        \"num_unique_values\": 4,\n        \"samples\": [\n          \"consensus\",\n          \"follow_up\",\n          \"histo\"\n        ],\n        \"semantic_type\": \"\",\n        \"description\": \"\"\n      }\n    },\n    {\n      \"column\": \"age\",\n      \"properties\": {\n        \"dtype\": \"number\",\n        \"std\": 16.96861369249538,\n        \"min\": 0.0,\n        \"max\": 85.0,\n        \"num_unique_values\": 18,\n        \"samples\": [\n          80.0,\n          75.0,\n          50.0\n        ],\n        \"semantic_type\": \"\",\n        \"description\": \"\"\n      }\n    },\n    {\n      \"column\": \"sex\",\n      \"properties\": {\n        \"dtype\": \"category\",\n        \"num_unique_values\": 3,\n        \"samples\": [\n          \"male\",\n          \"female\",\n          \"unknown\"\n        ],\n        \"semantic_type\": \"\",\n        \"description\": \"\"\n      }\n    },\n    {\n      \"column\": \"localization\",\n      \"properties\": {\n        \"dtype\": \"category\",\n        \"num_unique_values\": 15,\n        \"samples\": [\n          \"lower extremity\",\n          \"neck\",\n          \"scalp\"\n        ],\n        \"semantic_type\": \"\",\n        \"description\": \"\"\n      }\n    }\n  ]\n}"
            }
          },
          "metadata": {},
          "execution_count": 6
        }
      ]
    },
    {
      "cell_type": "code",
      "source": [
        "# Check for null values in each attribute\n",
        "print(\"Null counts for each attribute:\")\n",
        "print(skin_train_df.isnull().sum())\n",
        "print()\n",
        "\n",
        "print(\"Counts of 'unknown' for each attribute:\")\n",
        "print((skin_train_df == 'unknown').sum())\n",
        "\n",
        "# Drop rows with null or 'unknown' values for EDA purpose\n",
        "skin_df = skin_train_df.dropna()\n",
        "skin_df = skin_df[(skin_train_df != 'unknown').all(axis=1)]"
      ],
      "metadata": {
        "execution": {
          "iopub.status.busy": "2024-04-14T03:36:01.301265Z",
          "iopub.execute_input": "2024-04-14T03:36:01.302338Z",
          "iopub.status.idle": "2024-04-14T03:36:01.362604Z",
          "shell.execute_reply.started": "2024-04-14T03:36:01.302297Z",
          "shell.execute_reply": "2024-04-14T03:36:01.361571Z"
        },
        "trusted": true,
        "id": "lDZdruBnbJY-",
        "outputId": "8b9f2d92-54e0-4630-dd50-fb687ebc4f9d",
        "colab": {
          "base_uri": "https://localhost:8080/"
        }
      },
      "execution_count": null,
      "outputs": [
        {
          "output_type": "stream",
          "name": "stdout",
          "text": [
            "Null counts for each attribute:\n",
            "lesion_id        0\n",
            "image_id         0\n",
            "dx               0\n",
            "dx_type          0\n",
            "age             57\n",
            "sex              0\n",
            "localization     0\n",
            "dtype: int64\n",
            "\n",
            "Counts of 'unknown' for each attribute:\n",
            "lesion_id         0\n",
            "image_id          0\n",
            "dx                0\n",
            "dx_type           0\n",
            "age               0\n",
            "sex              57\n",
            "localization    234\n",
            "dtype: int64\n"
          ]
        },
        {
          "output_type": "stream",
          "name": "stderr",
          "text": [
            "<ipython-input-7-2c104beccf02>:11: UserWarning: Boolean Series key will be reindexed to match DataFrame index.\n",
            "  skin_df = skin_df[(skin_train_df != 'unknown').all(axis=1)]\n"
          ]
        }
      ]
    },
    {
      "cell_type": "code",
      "source": [
        "plt.figure(figsize=(10, 6))\n",
        "plt.hist(skin_df['age'], bins=20, color='skyblue', edgecolor='black')\n",
        "plt.xlabel('Age')\n",
        "plt.ylabel('Frequency')\n",
        "plt.title('Distribution of Age')\n",
        "plt.show()"
      ],
      "metadata": {
        "execution": {
          "iopub.status.busy": "2024-04-14T03:36:01.364092Z",
          "iopub.execute_input": "2024-04-14T03:36:01.364436Z",
          "iopub.status.idle": "2024-04-14T03:36:01.741982Z",
          "shell.execute_reply.started": "2024-04-14T03:36:01.364406Z",
          "shell.execute_reply": "2024-04-14T03:36:01.740832Z"
        },
        "trusted": true,
        "id": "vmLZ7GwEbJY_",
        "outputId": "13f49e26-bc31-428c-ea5d-dfaaf83af8cc",
        "colab": {
          "base_uri": "https://localhost:8080/",
          "height": 564
        }
      },
      "execution_count": null,
      "outputs": [
        {
          "output_type": "display_data",
          "data": {
            "text/plain": [
              "<Figure size 1000x600 with 1 Axes>"
            ],
            "image/png": "[encoded data removed]"
          },
          "metadata": {}
        }
      ]
    },
    {
      "cell_type": "code",
      "source": [
        "plt.figure(figsize=(6, 4))\n",
        "skin_df['sex'].value_counts().plot(kind='bar', color='skyblue', edgecolor='black')\n",
        "plt.xlabel('Sex')\n",
        "plt.ylabel('Count')\n",
        "plt.title('Distribution of Sex')\n",
        "plt.show()"
      ],
      "metadata": {
        "execution": {
          "iopub.status.busy": "2024-04-14T03:36:01.743376Z",
          "iopub.execute_input": "2024-04-14T03:36:01.743755Z",
          "iopub.status.idle": "2024-04-14T03:36:02.008542Z",
          "shell.execute_reply.started": "2024-04-14T03:36:01.743719Z",
          "shell.execute_reply": "2024-04-14T03:36:02.0075Z"
        },
        "trusted": true,
        "id": "Ui0CEF17bJY_",
        "outputId": "e2aaba07-7302-4c6b-db5c-9223f00b0e52",
        "colab": {
          "base_uri": "https://localhost:8080/",
          "height": 444
        }
      },
      "execution_count": null,
      "outputs": [
        {
          "output_type": "display_data",
          "data": {
            "text/plain": [
              "<Figure size 600x400 with 1 Axes>"
            ],
            "image/png": "[encoded data removed]"
          },
          "metadata": {}
        }
      ]
    },
    {
      "cell_type": "code",
      "source": [
        "# Dictionary to map lesion type codes to their full names\n",
        "lesion_type_dict = {\n",
        "    'nv': 'Melanocytic nevi',\n",
        "    'mel': 'Melanoma',\n",
        "    'bkl': 'Benign keratosis-like lesions',\n",
        "    'bcc': 'Basal cell carcinoma',\n",
        "    'akiec': 'Actinic keratoses',\n",
        "    'vasc': 'Vascular lesions',\n",
        "    'df': 'Dermatofibroma'\n",
        "}\n",
        "\n",
        "# Get the counts of each lesion type\n",
        "lesion_type_counts = skin_df['dx'].value_counts()\n",
        "\n",
        "# Create labels and sizes for the pie chart\n",
        "labels = [lesion_type_dict[code] for code in lesion_type_counts.index]\n",
        "sizes = lesion_type_counts.values\n",
        "\n",
        "# Create the pie chart with percentage labels\n",
        "plt.figure(figsize=(10, 8))\n",
        "plt.pie(sizes, labels=None, startangle=140, autopct='%1.1f%%')\n",
        "plt.axis('equal')  # Equal aspect ratio ensures that pie is drawn as a circle\n",
        "plt.title('Proportion of Each Skin Lesion Type')\n",
        "\n",
        "# Add a legend based on color\n",
        "plt.legend(labels, loc=\"best\")\n",
        "plt.show()"
      ],
      "metadata": {
        "execution": {
          "iopub.status.busy": "2024-04-14T03:36:02.010006Z",
          "iopub.execute_input": "2024-04-14T03:36:02.010385Z",
          "iopub.status.idle": "2024-04-14T03:36:02.573155Z",
          "shell.execute_reply.started": "2024-04-14T03:36:02.010349Z",
          "shell.execute_reply": "2024-04-14T03:36:02.571916Z"
        },
        "trusted": true,
        "id": "zNC-EbvBbJY_",
        "outputId": "352588cf-c56e-4180-9fe9-ad1fcaccf44f",
        "colab": {
          "base_uri": "https://localhost:8080/",
          "height": 675
        }
      },
      "execution_count": null,
      "outputs": [
        {
          "output_type": "display_data",
          "data": {
            "text/plain": [
              "<Figure size 1000x800 with 1 Axes>"
            ],
            "image/png": "[encoded data removed]"
          },
          "metadata": {}
        }
      ]
    },
    {
      "cell_type": "code",
      "source": [
        " # Drop columns except for image_id and dx\n",
        "skin_train_df = skin_train_df.drop(['lesion_id', 'dx_type', 'age', 'sex', 'localization'], axis=1)\n",
        "skin_train_df.head(5)"
      ],
      "metadata": {
        "execution": {
          "iopub.status.busy": "2024-04-14T03:36:02.574439Z",
          "iopub.execute_input": "2024-04-14T03:36:02.574825Z",
          "iopub.status.idle": "2024-04-14T03:36:03.1557Z",
          "shell.execute_reply.started": "2024-04-14T03:36:02.574788Z",
          "shell.execute_reply": "2024-04-14T03:36:03.154447Z"
        },
        "trusted": true,
        "id": "pcmKEGCXbJZA",
        "outputId": "74f6a8e3-e6cd-4152-a71a-ed8980aad3d0",
        "colab": {
          "base_uri": "https://localhost:8080/",
          "height": 206
        }
      },
      "execution_count": null,
      "outputs": [
        {
          "output_type": "execute_result",
          "data": {
            "text/plain": [
              "       image_id   dx\n",
              "0  ISIC_0027419  bkl\n",
              "1  ISIC_0025030  bkl\n",
              "2  ISIC_0026769  bkl\n",
              "3  ISIC_0025661  bkl\n",
              "4  ISIC_0031633  bkl"
            ],
            "text/html": [
              "\n",
              "  <div id=\"df-912a8b5e-13d1-4124-ac9f-077f13be7fd9\" class=\"colab-df-container\">\n",
              "    <div>\n",
              "<style scoped>\n",
              "    .dataframe tbody tr th:only-of-type {\n",
              "        vertical-align: middle;\n",
              "    }\n",
              "\n",
              "    .dataframe tbody tr th {\n",
              "        vertical-align: top;\n",
              "    }\n",
              "\n",
              "    .dataframe thead th {\n",
              "        text-align: right;\n",
              "    }\n",
              "</style>\n",
              "<table border=\"1\" class=\"dataframe\">\n",
              "  <thead>\n",
              "    <tr style=\"text-align: right;\">\n",
              "      <th></th>\n",
              "      <th>image_id</th>\n",
              "      <th>dx</th>\n",
              "    </tr>\n",
              "  </thead>\n",
              "  <tbody>\n",
              "    <tr>\n",
              "      <th>0</th>\n",
              "      <td>ISIC_0027419</td>\n",
              "      <td>bkl</td>\n",
              "    </tr>\n",
              "    <tr>\n",
              "      <th>1</th>\n",
              "      <td>ISIC_0025030</td>\n",
              "      <td>bkl</td>\n",
              "    </tr>\n",
              "    <tr>\n",
              "      <th>2</th>\n",
              "      <td>ISIC_0026769</td>\n",
              "      <td>bkl</td>\n",
              "    </tr>\n",
              "    <tr>\n",
              "      <th>3</th>\n",
              "      <td>ISIC_0025661</td>\n",
              "      <td>bkl</td>\n",
              "    </tr>\n",
              "    <tr>\n",
              "      <th>4</th>\n",
              "      <td>ISIC_0031633</td>\n",
              "      <td>bkl</td>\n",
              "    </tr>\n",
              "  </tbody>\n",
              "</table>\n",
              "</div>\n",
              "    <div class=\"colab-df-buttons\">\n",
              "\n",
              "  <div class=\"colab-df-container\">\n",
              "    <button class=\"colab-df-convert\" onclick=\"convertToInteractive('df-912a8b5e-13d1-4124-ac9f-077f13be7fd9')\"\n",
              "            title=\"Convert this dataframe to an interactive table.\"\n",
              "            style=\"display:none;\">\n",
              "\n",
              "  <svg xmlns=\"http://www.w3.org/2000/svg\" height=\"24px\" viewBox=\"0 -960 960 960\">\n",
              "    <path d=\"M120-120v-720h720v720H120Zm60-500h600v-160H180v160Zm220 220h160v-160H400v160Zm0 220h160v-160H400v160ZM180-400h160v-160H180v160Zm440 0h160v-160H620v160ZM180-180h160v-160H180v160Zm440 0h160v-160H620v160Z\"/>\n",
              "  </svg>\n",
              "    </button>\n",
              "\n",
              "  <style>\n",
              "    .colab-df-container {\n",
              "      display:flex;\n",
              "      gap: 12px;\n",
              "    }\n",
              "\n",
              "    .colab-df-convert {\n",
              "      background-color: #E8F0FE;\n",
              "      border: none;\n",
              "      border-radius: 50%;\n",
              "      cursor: pointer;\n",
              "      display: none;\n",
              "      fill: #1967D2;\n",
              "      height: 32px;\n",
              "      padding: 0 0 0 0;\n",
              "      width: 32px;\n",
              "    }\n",
              "\n",
              "    .colab-df-convert:hover {\n",
              "      background-color: #E2EBFA;\n",
              "      box-shadow: 0px 1px 2px rgba(60, 64, 67, 0.3), 0px 1px 3px 1px rgba(60, 64, 67, 0.15);\n",
              "      fill: #174EA6;\n",
              "    }\n",
              "\n",
              "    .colab-df-buttons div {\n",
              "      margin-bottom: 4px;\n",
              "    }\n",
              "\n",
              "    [theme=dark] .colab-df-convert {\n",
              "      background-color: #3B4455;\n",
              "      fill: #D2E3FC;\n",
              "    }\n",
              "\n",
              "    [theme=dark] .colab-df-convert:hover {\n",
              "      background-color: #434B5C;\n",
              "      box-shadow: 0px 1px 3px 1px rgba(0, 0, 0, 0.15);\n",
              "      filter: drop-shadow(0px 1px 2px rgba(0, 0, 0, 0.3));\n",
              "      fill: #FFFFFF;\n",
              "    }\n",
              "  </style>\n",
              "\n",
              "    <script>\n",
              "      const buttonEl =\n",
              "        document.querySelector('#df-912a8b5e-13d1-4124-ac9f-077f13be7fd9 button.colab-df-convert');\n",
              "      buttonEl.style.display =\n",
              "        google.colab.kernel.accessAllowed ? 'block' : 'none';\n",
              "\n",
              "      async function convertToInteractive(key) {\n",
              "        const element = document.querySelector('#df-912a8b5e-13d1-4124-ac9f-077f13be7fd9');\n",
              "        const dataTable =\n",
              "          await google.colab.kernel.invokeFunction('convertToInteractive',\n",
              "                                                    [key], {});\n",
              "        if (!dataTable) return;\n",
              "\n",
              "        const docLinkHtml = 'Like what you see? Visit the ' +\n",
              "          '<a target=\"_blank\" href=https://colab.research.google.com/notebooks/data_table.ipynb>data table notebook</a>'\n",
              "          + ' to learn more about interactive tables.';\n",
              "        element.innerHTML = '';\n",
              "        dataTable['output_type'] = 'display_data';\n",
              "        await google.colab.output.renderOutput(dataTable, element);\n",
              "        const docLink = document.createElement('div');\n",
              "        docLink.innerHTML = docLinkHtml;\n",
              "        element.appendChild(docLink);\n",
              "      }\n",
              "    </script>\n",
              "  </div>\n",
              "\n",
              "\n",
              "    <div id=\"df-23f05d0b-9707-4086-a6f4-bbc16e8763c3\">\n",
              "      <button class=\"colab-df-quickchart\" onclick=\"quickchart('df-23f05d0b-9707-4086-a6f4-bbc16e8763c3')\"\n",
              "                title=\"Suggest charts\"\n",
              "                style=\"display:none;\">\n",
              "\n",
              "<svg xmlns=\"http://www.w3.org/2000/svg\" height=\"24px\"viewBox=\"0 0 24 24\"\n",
              "     width=\"24px\">\n",
              "    <g>\n",
              "        <path d=\"M19 3H5c-1.1 0-2 .9-2 2v14c0 1.1.9 2 2 2h14c1.1 0 2-.9 2-2V5c0-1.1-.9-2-2-2zM9 17H7v-7h2v7zm4 0h-2V7h2v10zm4 0h-2v-4h2v4z\"/>\n",
              "    </g>\n",
              "</svg>\n",
              "      </button>\n",
              "\n",
              "<style>\n",
              "  .colab-df-quickchart {\n",
              "      --bg-color: #E8F0FE;\n",
              "      --fill-color: #1967D2;\n",
              "      --hover-bg-color: #E2EBFA;\n",
              "      --hover-fill-color: #174EA6;\n",
              "      --disabled-fill-color: #AAA;\n",
              "      --disabled-bg-color: #DDD;\n",
              "  }\n",
              "\n",
              "  [theme=dark] .colab-df-quickchart {\n",
              "      --bg-color: #3B4455;\n",
              "      --fill-color: #D2E3FC;\n",
              "      --hover-bg-color: #434B5C;\n",
              "      --hover-fill-color: #FFFFFF;\n",
              "      --disabled-bg-color: #3B4455;\n",
              "      --disabled-fill-color: #666;\n",
              "  }\n",
              "\n",
              "  .colab-df-quickchart {\n",
              "    background-color: var(--bg-color);\n",
              "    border: none;\n",
              "    border-radius: 50%;\n",
              "    cursor: pointer;\n",
              "    display: none;\n",
              "    fill: var(--fill-color);\n",
              "    height: 32px;\n",
              "    padding: 0;\n",
              "    width: 32px;\n",
              "  }\n",
              "\n",
              "  .colab-df-quickchart:hover {\n",
              "    background-color: var(--hover-bg-color);\n",
              "    box-shadow: 0 1px 2px rgba(60, 64, 67, 0.3), 0 1px 3px 1px rgba(60, 64, 67, 0.15);\n",
              "    fill: var(--button-hover-fill-color);\n",
              "  }\n",
              "\n",
              "  .colab-df-quickchart-complete:disabled,\n",
              "  .colab-df-quickchart-complete:disabled:hover {\n",
              "    background-color: var(--disabled-bg-color);\n",
              "    fill: var(--disabled-fill-color);\n",
              "    box-shadow: none;\n",
              "  }\n",
              "\n",
              "  .colab-df-spinner {\n",
              "    border: 2px solid var(--fill-color);\n",
              "    border-color: transparent;\n",
              "    border-bottom-color: var(--fill-color);\n",
              "    animation:\n",
              "      spin 1s steps(1) infinite;\n",
              "  }\n",
              "\n",
              "  @keyframes spin {\n",
              "    0% {\n",
              "      border-color: transparent;\n",
              "      border-bottom-color: var(--fill-color);\n",
              "      border-left-color: var(--fill-color);\n",
              "    }\n",
              "    20% {\n",
              "      border-color: transparent;\n",
              "      border-left-color: var(--fill-color);\n",
              "      border-top-color: var(--fill-color);\n",
              "    }\n",
              "    30% {\n",
              "      border-color: transparent;\n",
              "      border-left-color: var(--fill-color);\n",
              "      border-top-color: var(--fill-color);\n",
              "      border-right-color: var(--fill-color);\n",
              "    }\n",
              "    40% {\n",
              "      border-color: transparent;\n",
              "      border-right-color: var(--fill-color);\n",
              "      border-top-color: var(--fill-color);\n",
              "    }\n",
              "    60% {\n",
              "      border-color: transparent;\n",
              "      border-right-color: var(--fill-color);\n",
              "    }\n",
              "    80% {\n",
              "      border-color: transparent;\n",
              "      border-right-color: var(--fill-color);\n",
              "      border-bottom-color: var(--fill-color);\n",
              "    }\n",
              "    90% {\n",
              "      border-color: transparent;\n",
              "      border-bottom-color: var(--fill-color);\n",
              "    }\n",
              "  }\n",
              "</style>\n",
              "\n",
              "      <script>\n",
              "        async function quickchart(key) {\n",
              "          const quickchartButtonEl =\n",
              "            document.querySelector('#' + key + ' button');\n",
              "          quickchartButtonEl.disabled = true;  // To prevent multiple clicks.\n",
              "          quickchartButtonEl.classList.add('colab-df-spinner');\n",
              "          try {\n",
              "            const charts = await google.colab.kernel.invokeFunction(\n",
              "                'suggestCharts', [key], {});\n",
              "          } catch (error) {\n",
              "            console.error('Error during call to suggestCharts:', error);\n",
              "          }\n",
              "          quickchartButtonEl.classList.remove('colab-df-spinner');\n",
              "          quickchartButtonEl.classList.add('colab-df-quickchart-complete');\n",
              "        }\n",
              "        (() => {\n",
              "          let quickchartButtonEl =\n",
              "            document.querySelector('#df-23f05d0b-9707-4086-a6f4-bbc16e8763c3 button');\n",
              "          quickchartButtonEl.style.display =\n",
              "            google.colab.kernel.accessAllowed ? 'block' : 'none';\n",
              "        })();\n",
              "      </script>\n",
              "    </div>\n",
              "\n",
              "    </div>\n",
              "  </div>\n"
            ],
            "application/vnd.google.colaboratory.intrinsic+json": {
              "type": "dataframe",
              "variable_name": "skin_train_df",
              "summary": "{\n  \"name\": \"skin_train_df\",\n  \"rows\": 10015,\n  \"fields\": [\n    {\n      \"column\": \"image_id\",\n      \"properties\": {\n        \"dtype\": \"string\",\n        \"num_unique_values\": 10015,\n        \"samples\": [\n          \"ISIC_0033272\",\n          \"ISIC_0031923\",\n          \"ISIC_0026652\"\n        ],\n        \"semantic_type\": \"\",\n        \"description\": \"\"\n      }\n    },\n    {\n      \"column\": \"dx\",\n      \"properties\": {\n        \"dtype\": \"category\",\n        \"num_unique_values\": 7,\n        \"samples\": [\n          \"bkl\",\n          \"nv\",\n          \"bcc\"\n        ],\n        \"semantic_type\": \"\",\n        \"description\": \"\"\n      }\n    }\n  ]\n}"
            }
          },
          "metadata": {},
          "execution_count": 11
        }
      ]
    },
    {
      "cell_type": "code",
      "source": [
        "print('Shape of train_df : ', skin_train_df.shape, '\\n')"
      ],
      "metadata": {
        "execution": {
          "iopub.status.busy": "2024-04-14T03:36:03.160621Z",
          "iopub.execute_input": "2024-04-14T03:36:03.161612Z",
          "iopub.status.idle": "2024-04-14T03:36:04.279714Z",
          "shell.execute_reply.started": "2024-04-14T03:36:03.16157Z",
          "shell.execute_reply": "2024-04-14T03:36:04.278699Z"
        },
        "trusted": true,
        "id": "1Rt_r4vEbJZA",
        "outputId": "d53b5116-95a2-45e2-c93d-4b58d92b0ff1",
        "colab": {
          "base_uri": "https://localhost:8080/"
        }
      },
      "execution_count": null,
      "outputs": [
        {
          "output_type": "stream",
          "name": "stdout",
          "text": [
            "Shape of train_df :  (10015, 2) \n",
            "\n"
          ]
        }
      ]
    },
    {
      "cell_type": "code",
      "source": [
        "class HAM10000(Dataset):\n",
        "    def __init__(self, df, root, train_mode=True):\n",
        "\n",
        "        self.data = []\n",
        "        self.targets = []\n",
        "        self.df = df\n",
        "        self.root = root\n",
        "        self.train_mode = train_mode\n",
        "\n",
        "        # Transform the images\n",
        "        self.transform = transforms.Compose([\n",
        "            transforms.Resize(384),\n",
        "            transforms.RandomRotation(20),  # Random rotation between -20 to 20 degrees\n",
        "            transforms.RandomHorizontalFlip(),  # Random horizontal flip\n",
        "            transforms.RandomVerticalFlip(),  # Random vertical flip\n",
        "            transforms.ToTensor(),  # Convert to PyTorch Tensor\n",
        "            transforms.Normalize(mean=[0.485, 0.456, 0.406], std=[0.229, 0.224, 0.225]),  # Normalize\n",
        "        ])\n",
        "\n",
        "        # append filepath to data and integer labels to targets\n",
        "        for idx in range(len(self.df)):\n",
        "            filename = self.df['image_id'].iloc[idx]\n",
        "            filepath = os.path.join(root, filename + '.jpg')\n",
        "            self.data.append(filepath)\n",
        "            target = self.label_to_int(self.df['dx'].iloc[idx])\n",
        "            self.targets.append(target)\n",
        "\n",
        "    def __len__(self):\n",
        "        return len(self.df)\n",
        "\n",
        "    # get integer that represent a class\n",
        "    def label_to_int(self, label):\n",
        "        label_dict = {\n",
        "            'nv': 0,      # Melanocytic nevi\n",
        "            'mel': 1,     # Melanoma\n",
        "            'bkl': 2,     # Benign keratosis-like lesions\n",
        "            'bcc': 3,     # Basal cell carcinoma\n",
        "            'akiec': 4,   # Actinic keratoses\n",
        "            'vasc': 5,    # Vascular lesions\n",
        "            'df': 6       # Dermatofibroma\n",
        "        }\n",
        "\n",
        "        return label_dict.get(label, -1)\n",
        "\n",
        "    def __getitem__(self, idx):\n",
        "        img_path = self.data[idx]\n",
        "        image = Image.open(img_path)\n",
        "        image = self.transform(image)\n",
        "        label = self.targets[idx]\n",
        "\n",
        "        return image, label\n",
        "\n",
        "    def split_train_test(self, train_ratio=0.9):\n",
        "        train_size = int(train_ratio * len(self))\n",
        "        test_size = len(self) - train_size\n",
        "        train_set, test_set = torch.utils.data.random_split(self, [train_size, test_size])\n",
        "\n",
        "        return train_set, test_set"
      ],
      "metadata": {
        "execution": {
          "iopub.status.busy": "2024-04-14T03:36:04.28122Z",
          "iopub.execute_input": "2024-04-14T03:36:04.281512Z",
          "iopub.status.idle": "2024-04-14T03:36:05.144622Z",
          "shell.execute_reply.started": "2024-04-14T03:36:04.281487Z",
          "shell.execute_reply": "2024-04-14T03:36:05.143446Z"
        },
        "trusted": true,
        "id": "aZOa9WUzbJZA"
      },
      "execution_count": null,
      "outputs": []
    },
    {
      "cell_type": "code",
      "source": [
        "# Create dataset for training, validation and testing\n",
        "trainset = HAM10000(skin_train_df, \"/kaggle/working/Dataset/HAM10000/\", train_mode=True)\n",
        "trainset, testset = trainset.split_train_test(train_ratio=0.9)"
      ],
      "metadata": {
        "execution": {
          "iopub.status.busy": "2024-04-14T03:36:05.146023Z",
          "iopub.execute_input": "2024-04-14T03:36:05.146322Z",
          "iopub.status.idle": "2024-04-14T03:36:10.081481Z",
          "shell.execute_reply.started": "2024-04-14T03:36:05.146297Z",
          "shell.execute_reply": "2024-04-14T03:36:10.080429Z"
        },
        "trusted": true,
        "id": "og-uw_FVbJZB"
      },
      "execution_count": null,
      "outputs": []
    },
    {
      "cell_type": "code",
      "source": [
        "# Show the elements in each dataset\n",
        "print(f\"Train set contains : {len(trainset)}\\n\")\n",
        "print(f\"Test set contains : {len(testset)}\\n\")"
      ],
      "metadata": {
        "execution": {
          "iopub.status.busy": "2024-04-14T03:36:10.082715Z",
          "iopub.execute_input": "2024-04-14T03:36:10.083044Z",
          "iopub.status.idle": "2024-04-14T03:36:10.757418Z",
          "shell.execute_reply.started": "2024-04-14T03:36:10.083018Z",
          "shell.execute_reply": "2024-04-14T03:36:10.756203Z"
        },
        "trusted": true,
        "id": "1MsV_2kebJZB",
        "outputId": "fb7daf2d-26f9-46c7-c4d3-37ba1be26819",
        "colab": {
          "base_uri": "https://localhost:8080/"
        }
      },
      "execution_count": null,
      "outputs": [
        {
          "output_type": "stream",
          "name": "stdout",
          "text": [
            "Train set contains : 9013\n",
            "\n",
            "Test set contains : 1002\n",
            "\n"
          ]
        }
      ]
    },
    {
      "cell_type": "code",
      "source": [
        "# Define a function to create a weight for each classes to sampler\n",
        "def make_weights_for_balanced_classes(dataset):\n",
        "\n",
        "    # Get class distribution for each classes\n",
        "    class_counts = dataset.df['dx'].value_counts()\n",
        "\n",
        "    # Get the length for the dataset\n",
        "    num_samples = len(dataset)\n",
        "\n",
        "    # Get weights for each classes by dividing the total number of samples in dataset by the total samples of specific class\n",
        "    class_weights = {i: num_samples/class_counts[i] for i in range(len(class_counts))}\n",
        "\n",
        "    # Assign weights to each samples based on their classes\n",
        "    weights = [class_weights[label] for label in dataset.targets]\n",
        "\n",
        "    return weights"
      ],
      "metadata": {
        "execution": {
          "iopub.status.busy": "2024-04-14T03:36:10.758913Z",
          "iopub.execute_input": "2024-04-14T03:36:10.75961Z",
          "iopub.status.idle": "2024-04-14T03:36:11.861653Z",
          "shell.execute_reply.started": "2024-04-14T03:36:10.759572Z",
          "shell.execute_reply": "2024-04-14T03:36:11.860444Z"
        },
        "trusted": true,
        "id": "FXXoKWIwbJZB"
      },
      "execution_count": null,
      "outputs": []
    },
    {
      "cell_type": "code",
      "source": [
        "# Get weight for each samples\n",
        "weights = make_weights_for_balanced_classes(trainset.dataset)\n",
        "sampler = WeightedRandomSampler(weights, len(weights))\n",
        "\n",
        "# Create DataLoaders sand use the sampler to sampling the data\n",
        "trainloader = DataLoader(trainset, batch_size=8, sampler=sampler)\n",
        "testloader = DataLoader(testset, batch_size=8, shuffle=True)"
      ],
      "metadata": {
        "execution": {
          "iopub.status.busy": "2024-04-14T03:36:11.863158Z",
          "iopub.execute_input": "2024-04-14T03:36:11.863533Z",
          "iopub.status.idle": "2024-04-14T03:36:11.942748Z",
          "shell.execute_reply.started": "2024-04-14T03:36:11.863499Z",
          "shell.execute_reply": "2024-04-14T03:36:11.941462Z"
        },
        "trusted": true,
        "id": "9Flo-U0abJZB",
        "outputId": "60dd166d-b928-422a-f747-be263ccd6bf8",
        "colab": {
          "base_uri": "https://localhost:8080/"
        }
      },
      "execution_count": null,
      "outputs": [
        {
          "output_type": "stream",
          "name": "stderr",
          "text": [
            "<ipython-input-16-f51e07eb6b6f>:11: FutureWarning: Series.__getitem__ treating keys as positions is deprecated. In a future version, integer keys will always be treated as labels (consistent with DataFrame behavior). To access a value by position, use `ser.iloc[pos]`\n",
            "  class_weights = {i: num_samples/class_counts[i] for i in range(len(class_counts))}\n"
          ]
        }
      ]
    },
    {
      "cell_type": "code",
      "source": [
        "def train(model, dataloader, device, num_epochs, lr=0.1, momentum=0.8, step_size=5, gamma=0.5, verbose=True):\n",
        "\n",
        "    history = []\n",
        "    loss_iterations = int(np.ceil(len(dataloader)/3))\n",
        "\n",
        "    model = model.to(device)\n",
        "\n",
        "    # set the optimizer\n",
        "    optimizer = optim.SGD(model.parameters(), lr=lr, momentum=momentum)\n",
        "\n",
        "    # set the scheduler\n",
        "    scheduler = optim.lr_scheduler.StepLR(optimizer, step_size=step_size, gamma=gamma)\n",
        "\n",
        "    model.train()\n",
        "\n",
        "    for e in range(num_epochs):\n",
        "\n",
        "        running_loss = 0.0\n",
        "        running_count = 0.0\n",
        "\n",
        "        for i, (inputs, labels) in enumerate(dataloader):\n",
        "\n",
        "            optimizer.zero_grad()\n",
        "\n",
        "            if torch.cuda.is_available():\n",
        "                inputs = inputs.to(device)\n",
        "                labels = labels.to(device)\n",
        "\n",
        "            labels = labels.reshape(-1, 1).float()\n",
        "\n",
        "            outs = model(inputs)\n",
        "            loss = nn.CrossEntropyLoss()(outs, labels.squeeze().long())\n",
        "            loss.backward()\n",
        "            optimizer.step()\n",
        "\n",
        "            running_loss += loss.item()\n",
        "            running_count += 1\n",
        "\n",
        "            if (i + 1) % loss_iterations == 0 or i == len(dataloader) - 1:\n",
        "                train_loss = running_loss / running_count\n",
        "                running_loss = 0.\n",
        "                running_count = 0.\n",
        "                if verbose:\n",
        "                    print(f'[Epoch {e+1:2d}/{num_epochs:d} Iter {i+1:5d}/{len(dataloader)}]: train_loss = {train_loss:.4f}')\n",
        "\n",
        "                history.append(train_loss)\n",
        "\n",
        "        # Free memory after each epoch\n",
        "        del inputs, labels, outs, loss  # Delete intermediate variables\n",
        "\n",
        "        if torch.cuda.is_available():\n",
        "            torch.cuda.empty_cache()  # Empty PyTorch cache on GPU\n",
        "\n",
        "        # update scheduler\n",
        "        scheduler.step()\n",
        "\n",
        "    return history"
      ],
      "metadata": {
        "execution": {
          "iopub.status.busy": "2024-04-14T03:36:11.944612Z",
          "iopub.execute_input": "2024-04-14T03:36:11.94508Z",
          "iopub.status.idle": "2024-04-14T03:36:11.96037Z",
          "shell.execute_reply.started": "2024-04-14T03:36:11.945038Z",
          "shell.execute_reply": "2024-04-14T03:36:11.959165Z"
        },
        "trusted": true,
        "id": "5wxkEyxqbJZB"
      },
      "execution_count": null,
      "outputs": []
    },
    {
      "cell_type": "code",
      "source": [
        "def evaluate(net, dataloader, device):\n",
        "    # set to evaluation mode\n",
        "    net.eval()\n",
        "\n",
        "    # running_correct\n",
        "    running_corrects = 0\n",
        "    all_targets = []\n",
        "    all_predicted = []\n",
        "\n",
        "    for inputs, targets in dataloader:\n",
        "\n",
        "        # transfer to the GPU\n",
        "        if torch.cuda.is_available():\n",
        "            inputs = inputs.cuda()\n",
        "            targets = targets.cuda()\n",
        "\n",
        "        # perform prediction (no need to compute gradient)\n",
        "        with torch.no_grad():\n",
        "            outputs = net(inputs)\n",
        "            _, predicted = torch.max(outputs, 1)  # Get the index of the max log-probability\n",
        "            running_corrects += (targets == predicted).sum().item()\n",
        "\n",
        "            all_targets.extend(targets.cpu().numpy())\n",
        "            all_predicted.extend(predicted.cpu().numpy())\n",
        "\n",
        "    acc = running_corrects / len(dataloader.dataset)\n",
        "\n",
        "    print(f'Accuracy: {acc:.2f}')\n",
        "\n",
        "    # Calculate confusion matrix\n",
        "    cm = confusion_matrix(all_targets, all_predicted)\n",
        "\n",
        "    # Display confusion matrix as a heatmap\n",
        "    plt.figure(figsize=(10, 8))\n",
        "    sns.heatmap(cm, annot=True, fmt=\"d\", cmap=\"Blues\", xticklabels=[str(i) for i in range(7)], yticklabels=[str(i) for i in range(7)])\n",
        "    plt.xlabel(\"Predicted\")\n",
        "    plt.ylabel(\"True\")\n",
        "    plt.title(\"Confusion Matrix\")\n",
        "    plt.show()\n",
        "\n",
        "    # Compute and display classification report\n",
        "    report = classification_report(all_targets, all_predicted, target_names=[str(i) for i in range(7)])\n",
        "    print(\"Classification Report:\")\n",
        "    print(report)"
      ],
      "metadata": {
        "execution": {
          "iopub.status.busy": "2024-04-14T03:36:11.961899Z",
          "iopub.execute_input": "2024-04-14T03:36:11.962207Z",
          "iopub.status.idle": "2024-04-14T03:36:11.976519Z",
          "shell.execute_reply.started": "2024-04-14T03:36:11.962182Z",
          "shell.execute_reply": "2024-04-14T03:36:11.975516Z"
        },
        "trusted": true,
        "id": "bUKCI4L1bJZC"
      },
      "execution_count": null,
      "outputs": []
    },
    {
      "cell_type": "markdown",
      "source": [
        "# Model 2: Finetuning the top few layers"
      ],
      "metadata": {
        "id": "zQcZzpZ0bJZC"
      }
    },
    {
      "cell_type": "code",
      "source": [
        "# Load pretrained ResNet50 model\n",
        "model = models.resnet50(pretrained=True)\n",
        "model.fc = nn.Linear(in_features=2048, out_features=7)"
      ],
      "metadata": {
        "execution": {
          "iopub.status.busy": "2024-04-14T03:36:11.978024Z",
          "iopub.execute_input": "2024-04-14T03:36:11.978365Z",
          "iopub.status.idle": "2024-04-14T03:36:13.461527Z",
          "shell.execute_reply.started": "2024-04-14T03:36:11.978333Z",
          "shell.execute_reply": "2024-04-14T03:36:13.460701Z"
        },
        "trusted": true,
        "id": "mKB44GoUbJZD",
        "outputId": "cf6ecdb0-8768-482b-dab0-b9ffe0b20964",
        "colab": {
          "base_uri": "https://localhost:8080/"
        }
      },
      "execution_count": null,
      "outputs": [
        {
          "output_type": "stream",
          "name": "stderr",
          "text": [
            "/usr/local/lib/python3.11/dist-packages/torchvision/models/_utils.py:208: UserWarning: The parameter 'pretrained' is deprecated since 0.13 and may be removed in the future, please use 'weights' instead.\n",
            "  warnings.warn(\n",
            "/usr/local/lib/python3.11/dist-packages/torchvision/models/_utils.py:223: UserWarning: Arguments other than a weight enum or `None` for 'weights' are deprecated since 0.13 and may be removed in the future. The current behavior is equivalent to passing `weights=ResNet50_Weights.IMAGENET1K_V1`. You can also use `weights=ResNet50_Weights.DEFAULT` to get the most up-to-date weights.\n",
            "  warnings.warn(msg)\n",
            "Downloading: \"https://download.pytorch.org/models/resnet50-0676ba61.pth\" to /root/.cache/torch/hub/checkpoints/resnet50-0676ba61.pth\n",
            "100%|██████████| 97.8M/97.8M [00:00<00:00, 191MB/s]\n"
          ]
        }
      ]
    },
    {
      "cell_type": "code",
      "source": [
        "# Freeze specific layers\n",
        "freeze_layers = ['conv1', 'bn1', 'relu', 'maxpool', 'layer1', 'layer2', 'layer3']\n",
        "\n",
        "# Iterate over named modules and freeze/unfreeze as required\n",
        "for name, module in model.named_children():\n",
        "    if name in freeze_layers:\n",
        "        for param in module.parameters():\n",
        "            param.requires_grad = False\n",
        "    else:\n",
        "        for param in module.parameters():\n",
        "            param.requires_grad = True"
      ],
      "metadata": {
        "execution": {
          "iopub.status.busy": "2024-04-14T03:36:13.462733Z",
          "iopub.execute_input": "2024-04-14T03:36:13.463071Z",
          "iopub.status.idle": "2024-04-14T03:36:14.306347Z",
          "shell.execute_reply.started": "2024-04-14T03:36:13.463045Z",
          "shell.execute_reply": "2024-04-14T03:36:14.305336Z"
        },
        "trusted": true,
        "id": "sf26e0kubJZE"
      },
      "execution_count": null,
      "outputs": []
    },
    {
      "cell_type": "code",
      "source": [
        "device = torch.device('cuda' if torch.cuda.is_available() else 'cpu')\n",
        "history = train(model, testloader, device, num_epochs=15, lr=0.1, momentum=0.8, step_size=5, gamma=0.5)"
      ],
      "metadata": {
        "execution": {
          "iopub.status.busy": "2024-04-14T03:36:14.307618Z",
          "iopub.execute_input": "2024-04-14T03:36:14.307954Z",
          "iopub.status.idle": "2024-04-14T03:42:46.258046Z",
          "shell.execute_reply.started": "2024-04-14T03:36:14.307928Z",
          "shell.execute_reply": "2024-04-14T03:42:46.257037Z"
        },
        "trusted": true,
        "id": "WwT8KrwdbJZE",
        "outputId": "67d61f15-0038-4b7e-b330-69ced3177f6b",
        "colab": {
          "base_uri": "https://localhost:8080/"
        }
      },
      "execution_count": null,
      "outputs": [
        {
          "output_type": "stream",
          "name": "stdout",
          "text": [
            "[Epoch  1/15 Iter    42/126]: train_loss = 2.7188\n",
            "[Epoch  1/15 Iter    84/126]: train_loss = 1.0316\n",
            "[Epoch  1/15 Iter   126/126]: train_loss = 1.4233\n",
            "[Epoch  2/15 Iter    42/126]: train_loss = 1.0664\n",
            "[Epoch  2/15 Iter    84/126]: train_loss = 1.2609\n",
            "[Epoch  2/15 Iter   126/126]: train_loss = 1.0355\n",
            "[Epoch  3/15 Iter    42/126]: train_loss = 1.0358\n",
            "[Epoch  3/15 Iter    84/126]: train_loss = 1.0646\n",
            "[Epoch  3/15 Iter   126/126]: train_loss = 0.9969\n",
            "[Epoch  4/15 Iter    42/126]: train_loss = 0.9175\n",
            "[Epoch  4/15 Iter    84/126]: train_loss = 0.7267\n",
            "[Epoch  4/15 Iter   126/126]: train_loss = 0.9354\n",
            "[Epoch  5/15 Iter    42/126]: train_loss = 0.7606\n",
            "[Epoch  5/15 Iter    84/126]: train_loss = 0.8502\n",
            "[Epoch  5/15 Iter   126/126]: train_loss = 0.8019\n",
            "[Epoch  6/15 Iter    42/126]: train_loss = 0.6708\n",
            "[Epoch  6/15 Iter    84/126]: train_loss = 0.7280\n",
            "[Epoch  6/15 Iter   126/126]: train_loss = 0.7124\n",
            "[Epoch  7/15 Iter    42/126]: train_loss = 0.6668\n",
            "[Epoch  7/15 Iter    84/126]: train_loss = 0.6955\n",
            "[Epoch  7/15 Iter   126/126]: train_loss = 0.7277\n",
            "[Epoch  8/15 Iter    42/126]: train_loss = 0.5975\n",
            "[Epoch  8/15 Iter    84/126]: train_loss = 0.6749\n",
            "[Epoch  8/15 Iter   126/126]: train_loss = 0.6919\n",
            "[Epoch  9/15 Iter    42/126]: train_loss = 0.5914\n",
            "[Epoch  9/15 Iter    84/126]: train_loss = 0.6149\n",
            "[Epoch  9/15 Iter   126/126]: train_loss = 0.6885\n",
            "[Epoch 10/15 Iter    42/126]: train_loss = 0.7043\n",
            "[Epoch 10/15 Iter    84/126]: train_loss = 0.6899\n",
            "[Epoch 10/15 Iter   126/126]: train_loss = 0.5835\n",
            "[Epoch 11/15 Iter    42/126]: train_loss = 0.5628\n",
            "[Epoch 11/15 Iter    84/126]: train_loss = 0.6074\n",
            "[Epoch 11/15 Iter   126/126]: train_loss = 0.5360\n",
            "[Epoch 12/15 Iter    42/126]: train_loss = 0.5197\n",
            "[Epoch 12/15 Iter    84/126]: train_loss = 0.6155\n",
            "[Epoch 12/15 Iter   126/126]: train_loss = 0.6209\n",
            "[Epoch 13/15 Iter    42/126]: train_loss = 0.5479\n",
            "[Epoch 13/15 Iter    84/126]: train_loss = 0.5891\n",
            "[Epoch 13/15 Iter   126/126]: train_loss = 0.5475\n",
            "[Epoch 14/15 Iter    42/126]: train_loss = 0.4968\n",
            "[Epoch 14/15 Iter    84/126]: train_loss = 0.5659\n",
            "[Epoch 14/15 Iter   126/126]: train_loss = 0.5586\n",
            "[Epoch 15/15 Iter    42/126]: train_loss = 0.5771\n",
            "[Epoch 15/15 Iter    84/126]: train_loss = 0.5164\n",
            "[Epoch 15/15 Iter   126/126]: train_loss = 0.5497\n"
          ]
        }
      ]
    },
    {
      "cell_type": "code",
      "source": [
        "evaluate(model, testloader, device)"
      ],
      "metadata": {
        "execution": {
          "iopub.status.busy": "2024-04-14T03:42:51.252057Z",
          "iopub.execute_input": "2024-04-14T03:42:51.252431Z",
          "iopub.status.idle": "2024-04-14T03:43:13.851019Z",
          "shell.execute_reply.started": "2024-04-14T03:42:51.252403Z",
          "shell.execute_reply": "2024-04-14T03:43:13.849929Z"
        },
        "trusted": true,
        "id": "mbdULXUQbJZE",
        "outputId": "8bf1326f-39e9-477a-845f-2838faf71a87",
        "colab": {
          "base_uri": "https://localhost:8080/",
          "height": 1000
        }
      },
      "execution_count": null,
      "outputs": [
        {
          "output_type": "stream",
          "name": "stdout",
          "text": [
            "Accuracy: 0.86\n"
          ]
        },
        {
          "output_type": "display_data",
          "data": {
            "text/plain": [
              "<Figure size 1000x800 with 2 Axes>"
            ],
            "image/png": "[encoded data removed]"
          },
          "metadata": {}
        },
        {
          "output_type": "stream",
          "name": "stdout",
          "text": [
            "Classification Report:\n",
            "              precision    recall  f1-score   support\n",
            "\n",
            "           0       0.91      0.96      0.94       660\n",
            "           1       0.82      0.57      0.67       116\n",
            "           2       0.76      0.82      0.79       123\n",
            "           3       0.69      0.84      0.75        55\n",
            "           4       0.64      0.57      0.60        28\n",
            "           5       0.00      0.00      0.00         9\n",
            "           6       0.00      0.00      0.00        11\n",
            "\n",
            "    accuracy                           0.86      1002\n",
            "   macro avg       0.55      0.54      0.54      1002\n",
            "weighted avg       0.85      0.86      0.85      1002\n",
            "\n"
          ]
        },
        {
          "output_type": "stream",
          "name": "stderr",
          "text": [
            "/usr/local/lib/python3.11/dist-packages/sklearn/metrics/_classification.py:1565: UndefinedMetricWarning: Precision is ill-defined and being set to 0.0 in labels with no predicted samples. Use `zero_division` parameter to control this behavior.\n",
            "  _warn_prf(average, modifier, f\"{metric.capitalize()} is\", len(result))\n",
            "/usr/local/lib/python3.11/dist-packages/sklearn/metrics/_classification.py:1565: UndefinedMetricWarning: Precision is ill-defined and being set to 0.0 in labels with no predicted samples. Use `zero_division` parameter to control this behavior.\n",
            "  _warn_prf(average, modifier, f\"{metric.capitalize()} is\", len(result))\n",
            "/usr/local/lib/python3.11/dist-packages/sklearn/metrics/_classification.py:1565: UndefinedMetricWarning: Precision is ill-defined and being set to 0.0 in labels with no predicted samples. Use `zero_division` parameter to control this behavior.\n",
            "  _warn_prf(average, modifier, f\"{metric.capitalize()} is\", len(result))\n"
          ]
        }
      ]
    },
    {
      "cell_type": "markdown",
      "source": [
        "# Save/Load History"
      ],
      "metadata": {
        "id": "URtCEdHLbJZE"
      }
    },
    {
      "cell_type": "code",
      "source": [
        "import pickle\n",
        "# Save history to a file\n",
        "with open('training_history.pkl', 'wb') as f:\n",
        "    pickle.dump(history, f)"
      ],
      "metadata": {
        "execution": {
          "iopub.status.busy": "2024-04-14T03:43:30.541148Z",
          "iopub.execute_input": "2024-04-14T03:43:30.541869Z",
          "iopub.status.idle": "2024-04-14T03:43:30.546544Z",
          "shell.execute_reply.started": "2024-04-14T03:43:30.541839Z",
          "shell.execute_reply": "2024-04-14T03:43:30.545559Z"
        },
        "trusted": true,
        "id": "WFgCvQ8QbJZE"
      },
      "execution_count": null,
      "outputs": []
    },
    {
      "cell_type": "code",
      "source": [
        "# Load history from file\n",
        "with open(file_name, 'rb') as f:\n",
        "    history3 = pickle.load(f)"
      ],
      "metadata": {
        "id": "-21i4tQPbJZF",
        "outputId": "468a574e-a925-4b9b-8a7e-f5a34c534136",
        "colab": {
          "base_uri": "https://localhost:8080/",
          "height": 176
        }
      },
      "execution_count": null,
      "outputs": [
        {
          "output_type": "error",
          "ename": "NameError",
          "evalue": "name 'file_name' is not defined",
          "traceback": [
            "\u001b[0;31m---------------------------------------------------------------------------\u001b[0m",
            "\u001b[0;31mNameError\u001b[0m                                 Traceback (most recent call last)",
            "\u001b[0;32m<ipython-input-25-993dd55d0060>\u001b[0m in \u001b[0;36m<cell line: 0>\u001b[0;34m()\u001b[0m\n\u001b[1;32m      1\u001b[0m \u001b[0;31m# Load history from file\u001b[0m\u001b[0;34m\u001b[0m\u001b[0;34m\u001b[0m\u001b[0m\n\u001b[0;32m----> 2\u001b[0;31m \u001b[0;32mwith\u001b[0m \u001b[0mopen\u001b[0m\u001b[0;34m(\u001b[0m\u001b[0mfile_name\u001b[0m\u001b[0;34m,\u001b[0m \u001b[0;34m'rb'\u001b[0m\u001b[0;34m)\u001b[0m \u001b[0;32mas\u001b[0m \u001b[0mf\u001b[0m\u001b[0;34m:\u001b[0m\u001b[0;34m\u001b[0m\u001b[0;34m\u001b[0m\u001b[0m\n\u001b[0m\u001b[1;32m      3\u001b[0m     \u001b[0mhistory3\u001b[0m \u001b[0;34m=\u001b[0m \u001b[0mpickle\u001b[0m\u001b[0;34m.\u001b[0m\u001b[0mload\u001b[0m\u001b[0;34m(\u001b[0m\u001b[0mf\u001b[0m\u001b[0;34m)\u001b[0m\u001b[0;34m\u001b[0m\u001b[0;34m\u001b[0m\u001b[0m\n",
            "\u001b[0;31mNameError\u001b[0m: name 'file_name' is not defined"
          ]
        }
      ]
    },
    {
      "cell_type": "markdown",
      "source": [
        "# Save/Load Model"
      ],
      "metadata": {
        "id": "XNek7TukbJZF"
      }
    },
    {
      "cell_type": "code",
      "source": [
        "# Define the file path where you want to save the model\n",
        "save_path = \"method2_resnet50.pth\"\n",
        "# Save the trained model\n",
        "torch.save(model.state_dict(), save_path)"
      ],
      "metadata": {
        "execution": {
          "iopub.status.busy": "2024-04-14T03:43:47.498655Z",
          "iopub.execute_input": "2024-04-14T03:43:47.499337Z",
          "iopub.status.idle": "2024-04-14T03:43:47.649627Z",
          "shell.execute_reply.started": "2024-04-14T03:43:47.499307Z",
          "shell.execute_reply": "2024-04-14T03:43:47.648534Z"
        },
        "trusted": true,
        "id": "yuIBc_n1bJZF"
      },
      "execution_count": null,
      "outputs": []
    },
    {
      "cell_type": "code",
      "source": [
        "# Load the state dictionary into the model\n",
        "loaded_model.load_state_dict(torch.load(save_path))"
      ],
      "metadata": {
        "id": "A9Euial3bJZF"
      },
      "execution_count": null,
      "outputs": []
    }
  ]
}